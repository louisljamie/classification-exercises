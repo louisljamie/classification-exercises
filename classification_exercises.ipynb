{
 "cells": [
  {
   "cell_type": "code",
   "execution_count": null,
   "metadata": {
    "collapsed": true
   },
   "outputs": [],
   "source": []
  },
  {
   "cell_type": "markdown",
   "source": [
    "use a python module (pydata or seaborn datasets) containing datasets as a source from the iris data.\n",
    "Create a pandas dataframe, df_iris, from this data."
   ],
   "metadata": {
    "collapsed": false
   }
  },
  {
   "cell_type": "code",
   "execution_count": 7,
   "outputs": [],
   "source": [
    "import pandas as pd\n",
    "import seaborn as sns\n",
    "import matplotlib.pyplot as plt\n",
    "import env\n",
    "import mpl_toolkits.mplot3d\n",
    "from pydataset import data as py"
   ],
   "metadata": {
    "collapsed": false
   }
  },
  {
   "cell_type": "code",
   "execution_count": 9,
   "outputs": [],
   "source": [
    "df_iris = py('iris')\n"
   ],
   "metadata": {
    "collapsed": false
   }
  },
  {
   "cell_type": "code",
   "execution_count": 11,
   "outputs": [
    {
     "name": "stdout",
     "output_type": "stream",
     "text": [
      "   Sepal.Length  Sepal.Width  Petal.Length  Petal.Width Species\n",
      "1           5.1          3.5           1.4          0.2  setosa\n",
      "2           4.9          3.0           1.4          0.2  setosa\n",
      "3           4.7          3.2           1.3          0.2  setosa\n"
     ]
    }
   ],
   "source": [
    "print(df_iris.head(3))\n"
   ],
   "metadata": {
    "collapsed": false
   }
  },
  {
   "cell_type": "code",
   "execution_count": 12,
   "outputs": [
    {
     "name": "stdout",
     "output_type": "stream",
     "text": [
      "(150, 5)\n"
     ]
    }
   ],
   "source": [
    "print(df_iris.shape)"
   ],
   "metadata": {
    "collapsed": false
   }
  },
  {
   "cell_type": "code",
   "execution_count": 13,
   "outputs": [
    {
     "name": "stdout",
     "output_type": "stream",
     "text": [
      "Index(['Sepal.Length', 'Sepal.Width', 'Petal.Length', 'Petal.Width',\n",
      "       'Species'],\n",
      "      dtype='object')\n"
     ]
    }
   ],
   "source": [
    "print(df_iris.columns)"
   ],
   "metadata": {
    "collapsed": false
   }
  },
  {
   "cell_type": "code",
   "execution_count": 14,
   "outputs": [
    {
     "name": "stdout",
     "output_type": "stream",
     "text": [
      "Sepal.Length    float64\n",
      "Sepal.Width     float64\n",
      "Petal.Length    float64\n",
      "Petal.Width     float64\n",
      "Species          object\n",
      "dtype: object\n"
     ]
    }
   ],
   "source": [
    "print(df_iris.dtypes)"
   ],
   "metadata": {
    "collapsed": false
   }
  },
  {
   "cell_type": "code",
   "execution_count": 15,
   "outputs": [
    {
     "name": "stdout",
     "output_type": "stream",
     "text": [
      "       Sepal.Length  Sepal.Width  Petal.Length  Petal.Width\n",
      "count    150.000000   150.000000    150.000000   150.000000\n",
      "mean       5.843333     3.057333      3.758000     1.199333\n",
      "std        0.828066     0.435866      1.765298     0.762238\n",
      "min        4.300000     2.000000      1.000000     0.100000\n",
      "25%        5.100000     2.800000      1.600000     0.300000\n",
      "50%        5.800000     3.000000      4.350000     1.300000\n",
      "75%        6.400000     3.300000      5.100000     1.800000\n",
      "max        7.900000     4.400000      6.900000     2.500000\n"
     ]
    }
   ],
   "source": [
    "print(df_iris.describe())\n"
   ],
   "metadata": {
    "collapsed": false
   }
  },
  {
   "cell_type": "code",
   "execution_count": 23,
   "outputs": [
    {
     "name": "stdout",
     "output_type": "stream",
     "text": [
      "(150, 4)\n"
     ]
    }
   ],
   "source": [
    "# Standardize the data attributes for the Iris dataset.\n",
    "from sklearn.datasets import load_iris\n",
    "from sklearn import preprocessing\n",
    "# load the Iris dataset\n",
    "iris = load_iris()\n",
    "print(iris.data.shape)\n",
    "# separate the data and target attributes\n",
    "X = iris.data\n",
    "y = iris.target\n",
    "# standardize the data attributes\n",
    "standardized_X = preprocessing.scale(X)"
   ],
   "metadata": {
    "collapsed": false
   }
  },
  {
   "cell_type": "code",
   "execution_count": 24,
   "outputs": [
    {
     "name": "stdout",
     "output_type": "stream",
     "text": [
      "(150, 4)\n"
     ]
    }
   ],
   "source": [
    "# Normalize the data attributes for the Iris dataset.\n",
    "from sklearn.datasets import load_iris\n",
    "from sklearn import preprocessing\n",
    "# load the iris dataset\n",
    "iris = load_iris()\n",
    "print(iris.data.shape)\n",
    "# separate the data from the target attributes\n",
    "X = iris.data\n",
    "y = iris.target\n",
    "# normalize the data attributes\n",
    "normalized_X = preprocessing.normalize(X)"
   ],
   "metadata": {
    "collapsed": false
   }
  },
  {
   "cell_type": "code",
   "execution_count": 25,
   "outputs": [
    {
     "ename": "FileNotFoundError",
     "evalue": "[Errno 2] No such file or directory: 'Excel_Exercises.xlsx'",
     "output_type": "error",
     "traceback": [
      "\u001B[0;31m---------------------------------------------------------------------------\u001B[0m",
      "\u001B[0;31mFileNotFoundError\u001B[0m                         Traceback (most recent call last)",
      "\u001B[0;32m/var/folders/vs/c0nlrqgj7w31_21lr5lnfrf40000gn/T/ipykernel_4394/3575164076.py\u001B[0m in \u001B[0;36m<module>\u001B[0;34m\u001B[0m\n\u001B[0;32m----> 1\u001B[0;31m \u001B[0mdf_excel\u001B[0m \u001B[0;34m=\u001B[0m \u001B[0mpd\u001B[0m\u001B[0;34m.\u001B[0m\u001B[0mread_excel\u001B[0m\u001B[0;34m(\u001B[0m\u001B[0;34m'Excel_Exercises.xlsx'\u001B[0m\u001B[0;34m,\u001B[0m \u001B[0msheet_name\u001B[0m\u001B[0;34m=\u001B[0m\u001B[0;34m'Table1_CustDetails'\u001B[0m\u001B[0;34m)\u001B[0m\u001B[0;34m\u001B[0m\u001B[0;34m\u001B[0m\u001B[0m\n\u001B[0m",
      "\u001B[0;32m~/opt/anaconda3/lib/python3.9/site-packages/pandas/util/_decorators.py\u001B[0m in \u001B[0;36mwrapper\u001B[0;34m(*args, **kwargs)\u001B[0m\n\u001B[1;32m    309\u001B[0m                     \u001B[0mstacklevel\u001B[0m\u001B[0;34m=\u001B[0m\u001B[0mstacklevel\u001B[0m\u001B[0;34m,\u001B[0m\u001B[0;34m\u001B[0m\u001B[0;34m\u001B[0m\u001B[0m\n\u001B[1;32m    310\u001B[0m                 )\n\u001B[0;32m--> 311\u001B[0;31m             \u001B[0;32mreturn\u001B[0m \u001B[0mfunc\u001B[0m\u001B[0;34m(\u001B[0m\u001B[0;34m*\u001B[0m\u001B[0margs\u001B[0m\u001B[0;34m,\u001B[0m \u001B[0;34m**\u001B[0m\u001B[0mkwargs\u001B[0m\u001B[0;34m)\u001B[0m\u001B[0;34m\u001B[0m\u001B[0;34m\u001B[0m\u001B[0m\n\u001B[0m\u001B[1;32m    312\u001B[0m \u001B[0;34m\u001B[0m\u001B[0m\n\u001B[1;32m    313\u001B[0m         \u001B[0;32mreturn\u001B[0m \u001B[0mwrapper\u001B[0m\u001B[0;34m\u001B[0m\u001B[0;34m\u001B[0m\u001B[0m\n",
      "\u001B[0;32m~/opt/anaconda3/lib/python3.9/site-packages/pandas/io/excel/_base.py\u001B[0m in \u001B[0;36mread_excel\u001B[0;34m(io, sheet_name, header, names, index_col, usecols, squeeze, dtype, engine, converters, true_values, false_values, skiprows, nrows, na_values, keep_default_na, na_filter, verbose, parse_dates, date_parser, thousands, comment, skipfooter, convert_float, mangle_dupe_cols, storage_options)\u001B[0m\n\u001B[1;32m    362\u001B[0m     \u001B[0;32mif\u001B[0m \u001B[0;32mnot\u001B[0m \u001B[0misinstance\u001B[0m\u001B[0;34m(\u001B[0m\u001B[0mio\u001B[0m\u001B[0;34m,\u001B[0m \u001B[0mExcelFile\u001B[0m\u001B[0;34m)\u001B[0m\u001B[0;34m:\u001B[0m\u001B[0;34m\u001B[0m\u001B[0;34m\u001B[0m\u001B[0m\n\u001B[1;32m    363\u001B[0m         \u001B[0mshould_close\u001B[0m \u001B[0;34m=\u001B[0m \u001B[0;32mTrue\u001B[0m\u001B[0;34m\u001B[0m\u001B[0;34m\u001B[0m\u001B[0m\n\u001B[0;32m--> 364\u001B[0;31m         \u001B[0mio\u001B[0m \u001B[0;34m=\u001B[0m \u001B[0mExcelFile\u001B[0m\u001B[0;34m(\u001B[0m\u001B[0mio\u001B[0m\u001B[0;34m,\u001B[0m \u001B[0mstorage_options\u001B[0m\u001B[0;34m=\u001B[0m\u001B[0mstorage_options\u001B[0m\u001B[0;34m,\u001B[0m \u001B[0mengine\u001B[0m\u001B[0;34m=\u001B[0m\u001B[0mengine\u001B[0m\u001B[0;34m)\u001B[0m\u001B[0;34m\u001B[0m\u001B[0;34m\u001B[0m\u001B[0m\n\u001B[0m\u001B[1;32m    365\u001B[0m     \u001B[0;32melif\u001B[0m \u001B[0mengine\u001B[0m \u001B[0;32mand\u001B[0m \u001B[0mengine\u001B[0m \u001B[0;34m!=\u001B[0m \u001B[0mio\u001B[0m\u001B[0;34m.\u001B[0m\u001B[0mengine\u001B[0m\u001B[0;34m:\u001B[0m\u001B[0;34m\u001B[0m\u001B[0;34m\u001B[0m\u001B[0m\n\u001B[1;32m    366\u001B[0m         raise ValueError(\n",
      "\u001B[0;32m~/opt/anaconda3/lib/python3.9/site-packages/pandas/io/excel/_base.py\u001B[0m in \u001B[0;36m__init__\u001B[0;34m(self, path_or_buffer, engine, storage_options)\u001B[0m\n\u001B[1;32m   1189\u001B[0m                 \u001B[0mext\u001B[0m \u001B[0;34m=\u001B[0m \u001B[0;34m\"xls\"\u001B[0m\u001B[0;34m\u001B[0m\u001B[0;34m\u001B[0m\u001B[0m\n\u001B[1;32m   1190\u001B[0m             \u001B[0;32melse\u001B[0m\u001B[0;34m:\u001B[0m\u001B[0;34m\u001B[0m\u001B[0;34m\u001B[0m\u001B[0m\n\u001B[0;32m-> 1191\u001B[0;31m                 ext = inspect_excel_format(\n\u001B[0m\u001B[1;32m   1192\u001B[0m                     \u001B[0mcontent_or_path\u001B[0m\u001B[0;34m=\u001B[0m\u001B[0mpath_or_buffer\u001B[0m\u001B[0;34m,\u001B[0m \u001B[0mstorage_options\u001B[0m\u001B[0;34m=\u001B[0m\u001B[0mstorage_options\u001B[0m\u001B[0;34m\u001B[0m\u001B[0;34m\u001B[0m\u001B[0m\n\u001B[1;32m   1193\u001B[0m                 )\n",
      "\u001B[0;32m~/opt/anaconda3/lib/python3.9/site-packages/pandas/io/excel/_base.py\u001B[0m in \u001B[0;36minspect_excel_format\u001B[0;34m(content_or_path, storage_options)\u001B[0m\n\u001B[1;32m   1068\u001B[0m         \u001B[0mcontent_or_path\u001B[0m \u001B[0;34m=\u001B[0m \u001B[0mBytesIO\u001B[0m\u001B[0;34m(\u001B[0m\u001B[0mcontent_or_path\u001B[0m\u001B[0;34m)\u001B[0m\u001B[0;34m\u001B[0m\u001B[0;34m\u001B[0m\u001B[0m\n\u001B[1;32m   1069\u001B[0m \u001B[0;34m\u001B[0m\u001B[0m\n\u001B[0;32m-> 1070\u001B[0;31m     with get_handle(\n\u001B[0m\u001B[1;32m   1071\u001B[0m         \u001B[0mcontent_or_path\u001B[0m\u001B[0;34m,\u001B[0m \u001B[0;34m\"rb\"\u001B[0m\u001B[0;34m,\u001B[0m \u001B[0mstorage_options\u001B[0m\u001B[0;34m=\u001B[0m\u001B[0mstorage_options\u001B[0m\u001B[0;34m,\u001B[0m \u001B[0mis_text\u001B[0m\u001B[0;34m=\u001B[0m\u001B[0;32mFalse\u001B[0m\u001B[0;34m\u001B[0m\u001B[0;34m\u001B[0m\u001B[0m\n\u001B[1;32m   1072\u001B[0m     ) as handle:\n",
      "\u001B[0;32m~/opt/anaconda3/lib/python3.9/site-packages/pandas/io/common.py\u001B[0m in \u001B[0;36mget_handle\u001B[0;34m(path_or_buf, mode, encoding, compression, memory_map, is_text, errors, storage_options)\u001B[0m\n\u001B[1;32m    709\u001B[0m         \u001B[0;32melse\u001B[0m\u001B[0;34m:\u001B[0m\u001B[0;34m\u001B[0m\u001B[0;34m\u001B[0m\u001B[0m\n\u001B[1;32m    710\u001B[0m             \u001B[0;31m# Binary mode\u001B[0m\u001B[0;34m\u001B[0m\u001B[0;34m\u001B[0m\u001B[0m\n\u001B[0;32m--> 711\u001B[0;31m             \u001B[0mhandle\u001B[0m \u001B[0;34m=\u001B[0m \u001B[0mopen\u001B[0m\u001B[0;34m(\u001B[0m\u001B[0mhandle\u001B[0m\u001B[0;34m,\u001B[0m \u001B[0mioargs\u001B[0m\u001B[0;34m.\u001B[0m\u001B[0mmode\u001B[0m\u001B[0;34m)\u001B[0m\u001B[0;34m\u001B[0m\u001B[0;34m\u001B[0m\u001B[0m\n\u001B[0m\u001B[1;32m    712\u001B[0m         \u001B[0mhandles\u001B[0m\u001B[0;34m.\u001B[0m\u001B[0mappend\u001B[0m\u001B[0;34m(\u001B[0m\u001B[0mhandle\u001B[0m\u001B[0;34m)\u001B[0m\u001B[0;34m\u001B[0m\u001B[0;34m\u001B[0m\u001B[0m\n\u001B[1;32m    713\u001B[0m \u001B[0;34m\u001B[0m\u001B[0m\n",
      "\u001B[0;31mFileNotFoundError\u001B[0m: [Errno 2] No such file or directory: 'Excel_Exercises.xlsx'"
     ]
    }
   ],
   "source": [
    "df_excel = pd.read_excel('Excel_Exercises.xlsx', sheet_name='Table1_CustDetails')\n"
   ],
   "metadata": {
    "collapsed": false
   }
  },
  {
   "cell_type": "code",
   "execution_count": 26,
   "outputs": [
    {
     "ename": "KeyError",
     "evalue": "'category'",
     "output_type": "error",
     "traceback": [
      "\u001B[0;31m---------------------------------------------------------------------------\u001B[0m",
      "\u001B[0;31mKeyError\u001B[0m                                  Traceback (most recent call last)",
      "\u001B[0;32m~/opt/anaconda3/lib/python3.9/site-packages/pandas/core/indexes/base.py\u001B[0m in \u001B[0;36mget_loc\u001B[0;34m(self, key, method, tolerance)\u001B[0m\n\u001B[1;32m   3360\u001B[0m             \u001B[0;32mtry\u001B[0m\u001B[0;34m:\u001B[0m\u001B[0;34m\u001B[0m\u001B[0;34m\u001B[0m\u001B[0m\n\u001B[0;32m-> 3361\u001B[0;31m                 \u001B[0;32mreturn\u001B[0m \u001B[0mself\u001B[0m\u001B[0;34m.\u001B[0m\u001B[0m_engine\u001B[0m\u001B[0;34m.\u001B[0m\u001B[0mget_loc\u001B[0m\u001B[0;34m(\u001B[0m\u001B[0mcasted_key\u001B[0m\u001B[0;34m)\u001B[0m\u001B[0;34m\u001B[0m\u001B[0;34m\u001B[0m\u001B[0m\n\u001B[0m\u001B[1;32m   3362\u001B[0m             \u001B[0;32mexcept\u001B[0m \u001B[0mKeyError\u001B[0m \u001B[0;32mas\u001B[0m \u001B[0merr\u001B[0m\u001B[0;34m:\u001B[0m\u001B[0;34m\u001B[0m\u001B[0;34m\u001B[0m\u001B[0m\n",
      "\u001B[0;32m~/opt/anaconda3/lib/python3.9/site-packages/pandas/_libs/index.pyx\u001B[0m in \u001B[0;36mpandas._libs.index.IndexEngine.get_loc\u001B[0;34m()\u001B[0m\n",
      "\u001B[0;32m~/opt/anaconda3/lib/python3.9/site-packages/pandas/_libs/index.pyx\u001B[0m in \u001B[0;36mpandas._libs.index.IndexEngine.get_loc\u001B[0;34m()\u001B[0m\n",
      "\u001B[0;32mpandas/_libs/hashtable_class_helper.pxi\u001B[0m in \u001B[0;36mpandas._libs.hashtable.PyObjectHashTable.get_item\u001B[0;34m()\u001B[0m\n",
      "\u001B[0;32mpandas/_libs/hashtable_class_helper.pxi\u001B[0m in \u001B[0;36mpandas._libs.hashtable.PyObjectHashTable.get_item\u001B[0;34m()\u001B[0m\n",
      "\u001B[0;31mKeyError\u001B[0m: 'category'",
      "\nThe above exception was the direct cause of the following exception:\n",
      "\u001B[0;31mKeyError\u001B[0m                                  Traceback (most recent call last)",
      "\u001B[0;32m/var/folders/vs/c0nlrqgj7w31_21lr5lnfrf40000gn/T/ipykernel_4394/2287391211.py\u001B[0m in \u001B[0;36m<module>\u001B[0;34m\u001B[0m\n\u001B[1;32m     14\u001B[0m \u001B[0mdf_google\u001B[0m\u001B[0;34m.\u001B[0m\u001B[0mdescribe\u001B[0m\u001B[0;34m(\u001B[0m\u001B[0;34m)\u001B[0m\u001B[0;34m\u001B[0m\u001B[0;34m\u001B[0m\u001B[0m\n\u001B[1;32m     15\u001B[0m \u001B[0;31m# print the unique values for each of your categorical variables\u001B[0m\u001B[0;34m\u001B[0m\u001B[0;34m\u001B[0m\u001B[0m\n\u001B[0;32m---> 16\u001B[0;31m \u001B[0mdf_google\u001B[0m\u001B[0;34m[\u001B[0m\u001B[0;34m'category'\u001B[0m\u001B[0;34m]\u001B[0m\u001B[0;34m.\u001B[0m\u001B[0munique\u001B[0m\u001B[0;34m(\u001B[0m\u001B[0;34m)\u001B[0m\u001B[0;34m\u001B[0m\u001B[0;34m\u001B[0m\u001B[0m\n\u001B[0m",
      "\u001B[0;32m~/opt/anaconda3/lib/python3.9/site-packages/pandas/core/frame.py\u001B[0m in \u001B[0;36m__getitem__\u001B[0;34m(self, key)\u001B[0m\n\u001B[1;32m   3456\u001B[0m             \u001B[0;32mif\u001B[0m \u001B[0mself\u001B[0m\u001B[0;34m.\u001B[0m\u001B[0mcolumns\u001B[0m\u001B[0;34m.\u001B[0m\u001B[0mnlevels\u001B[0m \u001B[0;34m>\u001B[0m \u001B[0;36m1\u001B[0m\u001B[0;34m:\u001B[0m\u001B[0;34m\u001B[0m\u001B[0;34m\u001B[0m\u001B[0m\n\u001B[1;32m   3457\u001B[0m                 \u001B[0;32mreturn\u001B[0m \u001B[0mself\u001B[0m\u001B[0;34m.\u001B[0m\u001B[0m_getitem_multilevel\u001B[0m\u001B[0;34m(\u001B[0m\u001B[0mkey\u001B[0m\u001B[0;34m)\u001B[0m\u001B[0;34m\u001B[0m\u001B[0;34m\u001B[0m\u001B[0m\n\u001B[0;32m-> 3458\u001B[0;31m             \u001B[0mindexer\u001B[0m \u001B[0;34m=\u001B[0m \u001B[0mself\u001B[0m\u001B[0;34m.\u001B[0m\u001B[0mcolumns\u001B[0m\u001B[0;34m.\u001B[0m\u001B[0mget_loc\u001B[0m\u001B[0;34m(\u001B[0m\u001B[0mkey\u001B[0m\u001B[0;34m)\u001B[0m\u001B[0;34m\u001B[0m\u001B[0;34m\u001B[0m\u001B[0m\n\u001B[0m\u001B[1;32m   3459\u001B[0m             \u001B[0;32mif\u001B[0m \u001B[0mis_integer\u001B[0m\u001B[0;34m(\u001B[0m\u001B[0mindexer\u001B[0m\u001B[0;34m)\u001B[0m\u001B[0;34m:\u001B[0m\u001B[0;34m\u001B[0m\u001B[0;34m\u001B[0m\u001B[0m\n\u001B[1;32m   3460\u001B[0m                 \u001B[0mindexer\u001B[0m \u001B[0;34m=\u001B[0m \u001B[0;34m[\u001B[0m\u001B[0mindexer\u001B[0m\u001B[0;34m]\u001B[0m\u001B[0;34m\u001B[0m\u001B[0;34m\u001B[0m\u001B[0m\n",
      "\u001B[0;32m~/opt/anaconda3/lib/python3.9/site-packages/pandas/core/indexes/base.py\u001B[0m in \u001B[0;36mget_loc\u001B[0;34m(self, key, method, tolerance)\u001B[0m\n\u001B[1;32m   3361\u001B[0m                 \u001B[0;32mreturn\u001B[0m \u001B[0mself\u001B[0m\u001B[0;34m.\u001B[0m\u001B[0m_engine\u001B[0m\u001B[0;34m.\u001B[0m\u001B[0mget_loc\u001B[0m\u001B[0;34m(\u001B[0m\u001B[0mcasted_key\u001B[0m\u001B[0;34m)\u001B[0m\u001B[0;34m\u001B[0m\u001B[0;34m\u001B[0m\u001B[0m\n\u001B[1;32m   3362\u001B[0m             \u001B[0;32mexcept\u001B[0m \u001B[0mKeyError\u001B[0m \u001B[0;32mas\u001B[0m \u001B[0merr\u001B[0m\u001B[0;34m:\u001B[0m\u001B[0;34m\u001B[0m\u001B[0;34m\u001B[0m\u001B[0m\n\u001B[0;32m-> 3363\u001B[0;31m                 \u001B[0;32mraise\u001B[0m \u001B[0mKeyError\u001B[0m\u001B[0;34m(\u001B[0m\u001B[0mkey\u001B[0m\u001B[0;34m)\u001B[0m \u001B[0;32mfrom\u001B[0m \u001B[0merr\u001B[0m\u001B[0;34m\u001B[0m\u001B[0;34m\u001B[0m\u001B[0m\n\u001B[0m\u001B[1;32m   3364\u001B[0m \u001B[0;34m\u001B[0m\u001B[0m\n\u001B[1;32m   3365\u001B[0m         \u001B[0;32mif\u001B[0m \u001B[0mis_scalar\u001B[0m\u001B[0;34m(\u001B[0m\u001B[0mkey\u001B[0m\u001B[0;34m)\u001B[0m \u001B[0;32mand\u001B[0m \u001B[0misna\u001B[0m\u001B[0;34m(\u001B[0m\u001B[0mkey\u001B[0m\u001B[0;34m)\u001B[0m \u001B[0;32mand\u001B[0m \u001B[0;32mnot\u001B[0m \u001B[0mself\u001B[0m\u001B[0;34m.\u001B[0m\u001B[0mhasnans\u001B[0m\u001B[0;34m:\u001B[0m\u001B[0;34m\u001B[0m\u001B[0;34m\u001B[0m\u001B[0m\n",
      "\u001B[0;31mKeyError\u001B[0m: 'category'"
     ]
    }
   ],
   "source": [
    "\n",
    "# Read the data from 'https://docs.google.com/spreadsheets/d/1Uhtml8KY19LILuZsrDtlsHHDC9wuDGUSe8LTEwvdI5g/edit?usp=sharing' into a dataframe, df_google.\n",
    "\n",
    "# print the first 3 rows\n",
    "\n",
    "# print the number of rows and columns\n",
    "\n",
    "# print the column names\n",
    "\n",
    "# print the data type of each column\n",
    "\n",
    "# print the summary statistics for each of the numeric variables\n",
    "\n",
    "# print the unique values for each of your categorical variables\n"
   ],
   "metadata": {
    "collapsed": false
   }
  },
  {
   "cell_type": "code",
   "execution_count": 27,
   "outputs": [],
   "source": [
    "\n",
    "df_google = pd.read_csv('https://docs.google.com/spreadsheets/d/1Uhtml8KY19LILuZsrDtlsHHDC9wuDGUSe8LTEwvdI5g/export?format=csv')"
   ],
   "metadata": {
    "collapsed": false
   }
  },
  {
   "cell_type": "code",
   "execution_count": 28,
   "outputs": [
    {
     "data": {
      "text/plain": "   PassengerId  Survived  Pclass  \\\n0            1         0       3   \n1            2         1       1   \n2            3         1       3   \n\n                                                  Name     Sex   Age  SibSp  \\\n0                              Braund, Mr. Owen Harris    male  22.0      1   \n1  Cumings, Mrs. John Bradley (Florence Briggs Thayer)  female  38.0      1   \n2                               Heikkinen, Miss. Laina  female  26.0      0   \n\n   Parch            Ticket     Fare Cabin Embarked  \n0      0         A/5 21171   7.2500   NaN        S  \n1      0          PC 17599  71.2833   C85        C  \n2      0  STON/O2. 3101282   7.9250   NaN        S  ",
      "text/html": "<div>\n<style scoped>\n    .dataframe tbody tr th:only-of-type {\n        vertical-align: middle;\n    }\n\n    .dataframe tbody tr th {\n        vertical-align: top;\n    }\n\n    .dataframe thead th {\n        text-align: right;\n    }\n</style>\n<table border=\"1\" class=\"dataframe\">\n  <thead>\n    <tr style=\"text-align: right;\">\n      <th></th>\n      <th>PassengerId</th>\n      <th>Survived</th>\n      <th>Pclass</th>\n      <th>Name</th>\n      <th>Sex</th>\n      <th>Age</th>\n      <th>SibSp</th>\n      <th>Parch</th>\n      <th>Ticket</th>\n      <th>Fare</th>\n      <th>Cabin</th>\n      <th>Embarked</th>\n    </tr>\n  </thead>\n  <tbody>\n    <tr>\n      <th>0</th>\n      <td>1</td>\n      <td>0</td>\n      <td>3</td>\n      <td>Braund, Mr. Owen Harris</td>\n      <td>male</td>\n      <td>22.0</td>\n      <td>1</td>\n      <td>0</td>\n      <td>A/5 21171</td>\n      <td>7.2500</td>\n      <td>NaN</td>\n      <td>S</td>\n    </tr>\n    <tr>\n      <th>1</th>\n      <td>2</td>\n      <td>1</td>\n      <td>1</td>\n      <td>Cumings, Mrs. John Bradley (Florence Briggs Thayer)</td>\n      <td>female</td>\n      <td>38.0</td>\n      <td>1</td>\n      <td>0</td>\n      <td>PC 17599</td>\n      <td>71.2833</td>\n      <td>C85</td>\n      <td>C</td>\n    </tr>\n    <tr>\n      <th>2</th>\n      <td>3</td>\n      <td>1</td>\n      <td>3</td>\n      <td>Heikkinen, Miss. Laina</td>\n      <td>female</td>\n      <td>26.0</td>\n      <td>0</td>\n      <td>0</td>\n      <td>STON/O2. 3101282</td>\n      <td>7.9250</td>\n      <td>NaN</td>\n      <td>S</td>\n    </tr>\n  </tbody>\n</table>\n</div>"
     },
     "execution_count": 28,
     "metadata": {},
     "output_type": "execute_result"
    }
   ],
   "source": [
    "df_google.head(3)\n"
   ],
   "metadata": {
    "collapsed": false
   }
  },
  {
   "cell_type": "code",
   "execution_count": 29,
   "outputs": [
    {
     "data": {
      "text/plain": "(891, 12)"
     },
     "execution_count": 29,
     "metadata": {},
     "output_type": "execute_result"
    }
   ],
   "source": [
    "df_google.shape\n"
   ],
   "metadata": {
    "collapsed": false
   }
  },
  {
   "cell_type": "code",
   "execution_count": 30,
   "outputs": [
    {
     "data": {
      "text/plain": "Index(['PassengerId', 'Survived', 'Pclass', 'Name', 'Sex', 'Age', 'SibSp',\n       'Parch', 'Ticket', 'Fare', 'Cabin', 'Embarked'],\n      dtype='object')"
     },
     "execution_count": 30,
     "metadata": {},
     "output_type": "execute_result"
    }
   ],
   "source": [
    "df_google.columns"
   ],
   "metadata": {
    "collapsed": false
   }
  },
  {
   "cell_type": "code",
   "execution_count": 31,
   "outputs": [
    {
     "data": {
      "text/plain": "PassengerId      int64\nSurvived         int64\nPclass           int64\nName            object\nSex             object\nAge            float64\nSibSp            int64\nParch            int64\nTicket          object\nFare           float64\nCabin           object\nEmbarked        object\ndtype: object"
     },
     "execution_count": 31,
     "metadata": {},
     "output_type": "execute_result"
    }
   ],
   "source": [
    "df_google.dtypes"
   ],
   "metadata": {
    "collapsed": false
   }
  },
  {
   "cell_type": "code",
   "execution_count": 32,
   "outputs": [
    {
     "data": {
      "text/plain": "       PassengerId    Survived      Pclass         Age       SibSp  \\\ncount   891.000000  891.000000  891.000000  714.000000  891.000000   \nmean    446.000000    0.383838    2.308642   29.699118    0.523008   \nstd     257.353842    0.486592    0.836071   14.526497    1.102743   \nmin       1.000000    0.000000    1.000000    0.420000    0.000000   \n25%     223.500000    0.000000    2.000000   20.125000    0.000000   \n50%     446.000000    0.000000    3.000000   28.000000    0.000000   \n75%     668.500000    1.000000    3.000000   38.000000    1.000000   \nmax     891.000000    1.000000    3.000000   80.000000    8.000000   \n\n            Parch        Fare  \ncount  891.000000  891.000000  \nmean     0.381594   32.204208  \nstd      0.806057   49.693429  \nmin      0.000000    0.000000  \n25%      0.000000    7.910400  \n50%      0.000000   14.454200  \n75%      0.000000   31.000000  \nmax      6.000000  512.329200  ",
      "text/html": "<div>\n<style scoped>\n    .dataframe tbody tr th:only-of-type {\n        vertical-align: middle;\n    }\n\n    .dataframe tbody tr th {\n        vertical-align: top;\n    }\n\n    .dataframe thead th {\n        text-align: right;\n    }\n</style>\n<table border=\"1\" class=\"dataframe\">\n  <thead>\n    <tr style=\"text-align: right;\">\n      <th></th>\n      <th>PassengerId</th>\n      <th>Survived</th>\n      <th>Pclass</th>\n      <th>Age</th>\n      <th>SibSp</th>\n      <th>Parch</th>\n      <th>Fare</th>\n    </tr>\n  </thead>\n  <tbody>\n    <tr>\n      <th>count</th>\n      <td>891.000000</td>\n      <td>891.000000</td>\n      <td>891.000000</td>\n      <td>714.000000</td>\n      <td>891.000000</td>\n      <td>891.000000</td>\n      <td>891.000000</td>\n    </tr>\n    <tr>\n      <th>mean</th>\n      <td>446.000000</td>\n      <td>0.383838</td>\n      <td>2.308642</td>\n      <td>29.699118</td>\n      <td>0.523008</td>\n      <td>0.381594</td>\n      <td>32.204208</td>\n    </tr>\n    <tr>\n      <th>std</th>\n      <td>257.353842</td>\n      <td>0.486592</td>\n      <td>0.836071</td>\n      <td>14.526497</td>\n      <td>1.102743</td>\n      <td>0.806057</td>\n      <td>49.693429</td>\n    </tr>\n    <tr>\n      <th>min</th>\n      <td>1.000000</td>\n      <td>0.000000</td>\n      <td>1.000000</td>\n      <td>0.420000</td>\n      <td>0.000000</td>\n      <td>0.000000</td>\n      <td>0.000000</td>\n    </tr>\n    <tr>\n      <th>25%</th>\n      <td>223.500000</td>\n      <td>0.000000</td>\n      <td>2.000000</td>\n      <td>20.125000</td>\n      <td>0.000000</td>\n      <td>0.000000</td>\n      <td>7.910400</td>\n    </tr>\n    <tr>\n      <th>50%</th>\n      <td>446.000000</td>\n      <td>0.000000</td>\n      <td>3.000000</td>\n      <td>28.000000</td>\n      <td>0.000000</td>\n      <td>0.000000</td>\n      <td>14.454200</td>\n    </tr>\n    <tr>\n      <th>75%</th>\n      <td>668.500000</td>\n      <td>1.000000</td>\n      <td>3.000000</td>\n      <td>38.000000</td>\n      <td>1.000000</td>\n      <td>0.000000</td>\n      <td>31.000000</td>\n    </tr>\n    <tr>\n      <th>max</th>\n      <td>891.000000</td>\n      <td>1.000000</td>\n      <td>3.000000</td>\n      <td>80.000000</td>\n      <td>8.000000</td>\n      <td>6.000000</td>\n      <td>512.329200</td>\n    </tr>\n  </tbody>\n</table>\n</div>"
     },
     "execution_count": 32,
     "metadata": {},
     "output_type": "execute_result"
    }
   ],
   "source": [
    "df_google.describe()"
   ],
   "metadata": {
    "collapsed": false
   }
  },
  {
   "cell_type": "code",
   "execution_count": 33,
   "outputs": [
    {
     "ename": "KeyError",
     "evalue": "'category'",
     "output_type": "error",
     "traceback": [
      "\u001B[0;31m---------------------------------------------------------------------------\u001B[0m",
      "\u001B[0;31mKeyError\u001B[0m                                  Traceback (most recent call last)",
      "\u001B[0;32m~/opt/anaconda3/lib/python3.9/site-packages/pandas/core/indexes/base.py\u001B[0m in \u001B[0;36mget_loc\u001B[0;34m(self, key, method, tolerance)\u001B[0m\n\u001B[1;32m   3360\u001B[0m             \u001B[0;32mtry\u001B[0m\u001B[0;34m:\u001B[0m\u001B[0;34m\u001B[0m\u001B[0;34m\u001B[0m\u001B[0m\n\u001B[0;32m-> 3361\u001B[0;31m                 \u001B[0;32mreturn\u001B[0m \u001B[0mself\u001B[0m\u001B[0;34m.\u001B[0m\u001B[0m_engine\u001B[0m\u001B[0;34m.\u001B[0m\u001B[0mget_loc\u001B[0m\u001B[0;34m(\u001B[0m\u001B[0mcasted_key\u001B[0m\u001B[0;34m)\u001B[0m\u001B[0;34m\u001B[0m\u001B[0;34m\u001B[0m\u001B[0m\n\u001B[0m\u001B[1;32m   3362\u001B[0m             \u001B[0;32mexcept\u001B[0m \u001B[0mKeyError\u001B[0m \u001B[0;32mas\u001B[0m \u001B[0merr\u001B[0m\u001B[0;34m:\u001B[0m\u001B[0;34m\u001B[0m\u001B[0;34m\u001B[0m\u001B[0m\n",
      "\u001B[0;32m~/opt/anaconda3/lib/python3.9/site-packages/pandas/_libs/index.pyx\u001B[0m in \u001B[0;36mpandas._libs.index.IndexEngine.get_loc\u001B[0;34m()\u001B[0m\n",
      "\u001B[0;32m~/opt/anaconda3/lib/python3.9/site-packages/pandas/_libs/index.pyx\u001B[0m in \u001B[0;36mpandas._libs.index.IndexEngine.get_loc\u001B[0;34m()\u001B[0m\n",
      "\u001B[0;32mpandas/_libs/hashtable_class_helper.pxi\u001B[0m in \u001B[0;36mpandas._libs.hashtable.PyObjectHashTable.get_item\u001B[0;34m()\u001B[0m\n",
      "\u001B[0;32mpandas/_libs/hashtable_class_helper.pxi\u001B[0m in \u001B[0;36mpandas._libs.hashtable.PyObjectHashTable.get_item\u001B[0;34m()\u001B[0m\n",
      "\u001B[0;31mKeyError\u001B[0m: 'category'",
      "\nThe above exception was the direct cause of the following exception:\n",
      "\u001B[0;31mKeyError\u001B[0m                                  Traceback (most recent call last)",
      "\u001B[0;32m/var/folders/vs/c0nlrqgj7w31_21lr5lnfrf40000gn/T/ipykernel_4394/2871700513.py\u001B[0m in \u001B[0;36m<module>\u001B[0;34m\u001B[0m\n\u001B[0;32m----> 1\u001B[0;31m \u001B[0mdf_google\u001B[0m\u001B[0;34m[\u001B[0m\u001B[0;34m'category'\u001B[0m\u001B[0;34m]\u001B[0m\u001B[0;34m.\u001B[0m\u001B[0munique\u001B[0m\u001B[0;34m(\u001B[0m\u001B[0;34m)\u001B[0m\u001B[0;34m\u001B[0m\u001B[0;34m\u001B[0m\u001B[0m\n\u001B[0m",
      "\u001B[0;32m~/opt/anaconda3/lib/python3.9/site-packages/pandas/core/frame.py\u001B[0m in \u001B[0;36m__getitem__\u001B[0;34m(self, key)\u001B[0m\n\u001B[1;32m   3456\u001B[0m             \u001B[0;32mif\u001B[0m \u001B[0mself\u001B[0m\u001B[0;34m.\u001B[0m\u001B[0mcolumns\u001B[0m\u001B[0;34m.\u001B[0m\u001B[0mnlevels\u001B[0m \u001B[0;34m>\u001B[0m \u001B[0;36m1\u001B[0m\u001B[0;34m:\u001B[0m\u001B[0;34m\u001B[0m\u001B[0;34m\u001B[0m\u001B[0m\n\u001B[1;32m   3457\u001B[0m                 \u001B[0;32mreturn\u001B[0m \u001B[0mself\u001B[0m\u001B[0;34m.\u001B[0m\u001B[0m_getitem_multilevel\u001B[0m\u001B[0;34m(\u001B[0m\u001B[0mkey\u001B[0m\u001B[0;34m)\u001B[0m\u001B[0;34m\u001B[0m\u001B[0;34m\u001B[0m\u001B[0m\n\u001B[0;32m-> 3458\u001B[0;31m             \u001B[0mindexer\u001B[0m \u001B[0;34m=\u001B[0m \u001B[0mself\u001B[0m\u001B[0;34m.\u001B[0m\u001B[0mcolumns\u001B[0m\u001B[0;34m.\u001B[0m\u001B[0mget_loc\u001B[0m\u001B[0;34m(\u001B[0m\u001B[0mkey\u001B[0m\u001B[0;34m)\u001B[0m\u001B[0;34m\u001B[0m\u001B[0;34m\u001B[0m\u001B[0m\n\u001B[0m\u001B[1;32m   3459\u001B[0m             \u001B[0;32mif\u001B[0m \u001B[0mis_integer\u001B[0m\u001B[0;34m(\u001B[0m\u001B[0mindexer\u001B[0m\u001B[0;34m)\u001B[0m\u001B[0;34m:\u001B[0m\u001B[0;34m\u001B[0m\u001B[0;34m\u001B[0m\u001B[0m\n\u001B[1;32m   3460\u001B[0m                 \u001B[0mindexer\u001B[0m \u001B[0;34m=\u001B[0m \u001B[0;34m[\u001B[0m\u001B[0mindexer\u001B[0m\u001B[0;34m]\u001B[0m\u001B[0;34m\u001B[0m\u001B[0;34m\u001B[0m\u001B[0m\n",
      "\u001B[0;32m~/opt/anaconda3/lib/python3.9/site-packages/pandas/core/indexes/base.py\u001B[0m in \u001B[0;36mget_loc\u001B[0;34m(self, key, method, tolerance)\u001B[0m\n\u001B[1;32m   3361\u001B[0m                 \u001B[0;32mreturn\u001B[0m \u001B[0mself\u001B[0m\u001B[0;34m.\u001B[0m\u001B[0m_engine\u001B[0m\u001B[0;34m.\u001B[0m\u001B[0mget_loc\u001B[0m\u001B[0;34m(\u001B[0m\u001B[0mcasted_key\u001B[0m\u001B[0;34m)\u001B[0m\u001B[0;34m\u001B[0m\u001B[0;34m\u001B[0m\u001B[0m\n\u001B[1;32m   3362\u001B[0m             \u001B[0;32mexcept\u001B[0m \u001B[0mKeyError\u001B[0m \u001B[0;32mas\u001B[0m \u001B[0merr\u001B[0m\u001B[0;34m:\u001B[0m\u001B[0;34m\u001B[0m\u001B[0;34m\u001B[0m\u001B[0m\n\u001B[0;32m-> 3363\u001B[0;31m                 \u001B[0;32mraise\u001B[0m \u001B[0mKeyError\u001B[0m\u001B[0;34m(\u001B[0m\u001B[0mkey\u001B[0m\u001B[0;34m)\u001B[0m \u001B[0;32mfrom\u001B[0m \u001B[0merr\u001B[0m\u001B[0;34m\u001B[0m\u001B[0;34m\u001B[0m\u001B[0m\n\u001B[0m\u001B[1;32m   3364\u001B[0m \u001B[0;34m\u001B[0m\u001B[0m\n\u001B[1;32m   3365\u001B[0m         \u001B[0;32mif\u001B[0m \u001B[0mis_scalar\u001B[0m\u001B[0;34m(\u001B[0m\u001B[0mkey\u001B[0m\u001B[0;34m)\u001B[0m \u001B[0;32mand\u001B[0m \u001B[0misna\u001B[0m\u001B[0;34m(\u001B[0m\u001B[0mkey\u001B[0m\u001B[0;34m)\u001B[0m \u001B[0;32mand\u001B[0m \u001B[0;32mnot\u001B[0m \u001B[0mself\u001B[0m\u001B[0;34m.\u001B[0m\u001B[0mhasnans\u001B[0m\u001B[0;34m:\u001B[0m\u001B[0;34m\u001B[0m\u001B[0;34m\u001B[0m\u001B[0m\n",
      "\u001B[0;31mKeyError\u001B[0m: 'category'"
     ]
    }
   ],
   "source": [
    "df_google['category'].unique()"
   ],
   "metadata": {
    "collapsed": false
   }
  },
  {
   "cell_type": "markdown",
   "source": [
    " Read the train.xlsx into a dataframe named df_excel.\n",
    "\n",
    "assign the first 100 rows to a new dataframe, df_excel_sample\n",
    "print the number of rows of your original dataframe\n",
    "print the first 5 column names\n",
    "print the column names that have a data type of object\n",
    "compute the range for each of the numeric variables."
   ],
   "metadata": {
    "collapsed": false
   }
  },
  {
   "cell_type": "code",
   "execution_count": 34,
   "outputs": [],
   "source": [
    "\n",
    "df_excel = pd.read_excel('train.xlsx')\n",
    "\n",
    "\n"
   ],
   "metadata": {
    "collapsed": false
   }
  },
  {
   "cell_type": "code",
   "execution_count": 36,
   "outputs": [],
   "source": [
    "\n",
    "df_excel_sample = df_excel.head(100)\n",
    "\n"
   ],
   "metadata": {
    "collapsed": false
   }
  },
  {
   "cell_type": "code",
   "execution_count": 37,
   "outputs": [
    {
     "data": {
      "text/plain": "    PassengerId  Survived  Pclass  \\\n0           1.0       0.0     3.0   \n1           2.0       1.0     1.0   \n2           3.0       1.0     3.0   \n3           4.0       1.0     1.0   \n4           5.0       0.0     3.0   \n5           6.0       0.0     3.0   \n6           7.0       0.0     1.0   \n7           8.0       0.0     3.0   \n8           9.0       1.0     3.0   \n9          10.0       1.0     2.0   \n10         11.0       1.0     3.0   \n11         12.0       1.0     1.0   \n12         13.0       0.0     3.0   \n13         14.0       0.0     3.0   \n14         15.0       0.0     3.0   \n15         16.0       1.0     2.0   \n16         17.0       0.0     3.0   \n17         18.0       1.0     2.0   \n18         19.0       0.0     3.0   \n19         20.0       1.0     3.0   \n20         21.0       0.0     2.0   \n21         22.0       1.0     2.0   \n22         23.0       1.0     3.0   \n23         24.0       1.0     1.0   \n24         25.0       0.0     3.0   \n25         26.0       1.0     3.0   \n26         27.0       0.0     3.0   \n27         28.0       0.0     1.0   \n28         29.0       1.0     3.0   \n29         30.0       0.0     3.0   \n30         31.0       0.0     1.0   \n31         32.0       1.0     1.0   \n32         33.0       1.0     3.0   \n33         34.0       0.0     2.0   \n34         35.0       0.0     1.0   \n35         36.0       0.0     1.0   \n36         37.0       1.0     3.0   \n37         38.0       0.0     3.0   \n38         39.0       0.0     3.0   \n39         40.0       1.0     3.0   \n40         41.0       0.0     3.0   \n41         42.0       0.0     2.0   \n42         43.0       0.0     3.0   \n43         44.0       1.0     2.0   \n44         45.0       1.0     3.0   \n45         46.0       0.0     3.0   \n46         47.0       0.0     3.0   \n47         48.0       1.0     3.0   \n48         49.0       0.0     3.0   \n49         50.0       0.0     3.0   \n50         51.0       0.0     3.0   \n51         52.0       0.0     3.0   \n52         53.0       1.0     1.0   \n53         54.0       1.0     2.0   \n54         55.0       0.0     1.0   \n55         56.0       1.0     1.0   \n56         57.0       1.0     2.0   \n57         58.0       0.0     3.0   \n58         59.0       1.0     2.0   \n59         60.0       0.0     3.0   \n60         61.0       0.0     3.0   \n61         62.0       1.0     1.0   \n62         63.0       0.0     1.0   \n63         64.0       0.0     3.0   \n64         65.0       0.0     1.0   \n65         66.0       1.0     3.0   \n66         67.0       1.0     2.0   \n67         68.0       0.0     3.0   \n68         69.0       1.0     3.0   \n69         70.0       0.0     3.0   \n70         71.0       0.0     2.0   \n71         72.0       0.0     3.0   \n72         73.0       0.0     2.0   \n73         74.0       0.0     3.0   \n74         75.0       1.0     3.0   \n75         76.0       0.0     3.0   \n76         77.0       0.0     3.0   \n77         78.0       0.0     3.0   \n78         79.0       1.0     2.0   \n79         80.0       1.0     3.0   \n80         81.0       0.0     3.0   \n81         82.0       1.0     3.0   \n82         83.0       1.0     3.0   \n83         84.0       0.0     1.0   \n84         85.0       1.0     2.0   \n85         86.0       1.0     3.0   \n86         87.0       0.0     3.0   \n87         88.0       0.0     3.0   \n88         89.0       1.0     1.0   \n89         90.0       0.0     3.0   \n90         91.0       0.0     3.0   \n91         92.0       0.0     3.0   \n92         93.0       0.0     1.0   \n93         94.0       0.0     3.0   \n94         95.0       0.0     3.0   \n95         96.0       0.0     3.0   \n96         97.0       0.0     1.0   \n97         98.0       1.0     1.0   \n98         99.0       1.0     2.0   \n99        100.0       0.0     2.0   \n\n                                                         Name     Sex    Age  \\\n0                                     Braund, Mr. Owen Harris    male  22.00   \n1         Cumings, Mrs. John Bradley (Florence Briggs Thayer)  female  38.00   \n2                                      Heikkinen, Miss. Laina  female  26.00   \n3                Futrelle, Mrs. Jacques Heath (Lily May Peel)  female  35.00   \n4                                    Allen, Mr. William Henry    male  35.00   \n5                                            Moran, Mr. James    male    NaN   \n6                                     McCarthy, Mr. Timothy J    male  54.00   \n7                              Palsson, Master. Gosta Leonard    male   2.00   \n8           Johnson, Mrs. Oscar W (Elisabeth Vilhelmina Berg)  female  27.00   \n9                         Nasser, Mrs. Nicholas (Adele Achem)  female  14.00   \n10                            Sandstrom, Miss. Marguerite Rut  female   4.00   \n11                                   Bonnell, Miss. Elizabeth  female  58.00   \n12                             Saundercock, Mr. William Henry    male  20.00   \n13                                Andersson, Mr. Anders Johan    male  39.00   \n14                       Vestrom, Miss. Hulda Amanda Adolfina  female  14.00   \n15                           Hewlett, Mrs. (Mary D Kingcome)   female  55.00   \n16                                       Rice, Master. Eugene    male   2.00   \n17                               Williams, Mr. Charles Eugene    male    NaN   \n18    Vander Planke, Mrs. Julius (Emelia Maria Vandemoortele)  female  31.00   \n19                                    Masselmani, Mrs. Fatima  female    NaN   \n20                                       Fynney, Mr. Joseph J    male  35.00   \n21                                      Beesley, Mr. Lawrence    male  34.00   \n22                                McGowan, Miss. Anna \"Annie\"  female  15.00   \n23                               Sloper, Mr. William Thompson    male  28.00   \n24                              Palsson, Miss. Torborg Danira  female   8.00   \n25  Asplund, Mrs. Carl Oscar (Selma Augusta Emilia Johansson)  female  38.00   \n26                                    Emir, Mr. Farred Chehab    male    NaN   \n27                             Fortune, Mr. Charles Alexander    male  19.00   \n28                              O'Dwyer, Miss. Ellen \"Nellie\"  female    NaN   \n29                                        Todoroff, Mr. Lalio    male    NaN   \n30                                   Uruchurtu, Don. Manuel E    male  40.00   \n31             Spencer, Mrs. William Augustus (Marie Eugenie)  female    NaN   \n32                                   Glynn, Miss. Mary Agatha  female    NaN   \n33                                      Wheadon, Mr. Edward H    male  66.00   \n34                                    Meyer, Mr. Edgar Joseph    male  28.00   \n35                             Holverson, Mr. Alexander Oskar    male  42.00   \n36                                           Mamee, Mr. Hanna    male    NaN   \n37                                   Cann, Mr. Ernest Charles    male  21.00   \n38                         Vander Planke, Miss. Augusta Maria  female  18.00   \n39                                Nicola-Yarred, Miss. Jamila  female  14.00   \n40             Ahlin, Mrs. Johan (Johanna Persdotter Larsson)  female  40.00   \n41   Turpin, Mrs. William John Robert (Dorothy Ann Wonnacott)  female  27.00   \n42                                        Kraeff, Mr. Theodor    male    NaN   \n43                   Laroche, Miss. Simonne Marie Anne Andree  female   3.00   \n44                              Devaney, Miss. Margaret Delia  female  19.00   \n45                                   Rogers, Mr. William John    male    NaN   \n46                                          Lennon, Mr. Denis    male    NaN   \n47                                  O'Driscoll, Miss. Bridget  female    NaN   \n48                                        Samaan, Mr. Youssef    male    NaN   \n49              Arnold-Franchi, Mrs. Josef (Josefine Franchi)  female  18.00   \n50                                 Panula, Master. Juha Niilo    male   7.00   \n51                               Nosworthy, Mr. Richard Cater    male  21.00   \n52                   Harper, Mrs. Henry Sleeper (Myna Haxtun)  female  49.00   \n53         Faunthorpe, Mrs. Lizzie (Elizabeth Anne Wilkinson)  female  29.00   \n54                             Ostby, Mr. Engelhart Cornelius    male  65.00   \n55                                          Woolner, Mr. Hugh    male    NaN   \n56                                          Rugg, Miss. Emily  female  21.00   \n57                                        Novel, Mr. Mansouer    male  28.50   \n58                               West, Miss. Constance Mirium  female   5.00   \n59                         Goodwin, Master. William Frederick    male  11.00   \n60                                      Sirayanian, Mr. Orsen    male  22.00   \n61                                        Icard, Miss. Amelie  female  38.00   \n62                                Harris, Mr. Henry Birkhardt    male  45.00   \n63                                      Skoog, Master. Harald    male   4.00   \n64                                      Stewart, Mr. Albert A    male    NaN   \n65                                   Moubarek, Master. Gerios    male    NaN   \n66                               Nye, Mrs. (Elizabeth Ramell)  female  29.00   \n67                                   Crease, Mr. Ernest James    male  19.00   \n68                            Andersson, Miss. Erna Alexandra  female  17.00   \n69                                          Kink, Mr. Vincenz    male  26.00   \n70                                 Jenkin, Mr. Stephen Curnow    male  32.00   \n71                                 Goodwin, Miss. Lillian Amy  female  16.00   \n72                                       Hood, Mr. Ambrose Jr    male  21.00   \n73                                Chronopoulos, Mr. Apostolos    male  26.00   \n74                                              Bing, Mr. Lee    male  32.00   \n75                                    Moen, Mr. Sigurd Hansen    male  25.00   \n76                                          Staneff, Mr. Ivan    male    NaN   \n77                                   Moutal, Mr. Rahamin Haim    male    NaN   \n78                              Caldwell, Master. Alden Gates    male   0.83   \n79                                   Dowdell, Miss. Elizabeth  female  30.00   \n80                                       Waelens, Mr. Achille    male  22.00   \n81                                Sheerlinck, Mr. Jan Baptist    male  29.00   \n82                             McDermott, Miss. Brigdet Delia  female    NaN   \n83                                    Carrau, Mr. Francisco M    male  28.00   \n84                                        Ilett, Miss. Bertha  female  17.00   \n85    Backstrom, Mrs. Karl Alfred (Maria Mathilda Gustafsson)  female  33.00   \n86                                     Ford, Mr. William Neal    male  16.00   \n87                              Slocovski, Mr. Selman Francis    male    NaN   \n88                                 Fortune, Miss. Mabel Helen  female  23.00   \n89                                     Celotti, Mr. Francesco    male  24.00   \n90                                       Christmann, Mr. Emil    male  29.00   \n91                                 Andreasson, Mr. Paul Edvin    male  20.00   \n92                                Chaffee, Mr. Herbert Fuller    male  46.00   \n93                                    Dean, Mr. Bertram Frank    male  26.00   \n94                                          Coxon, Mr. Daniel    male  59.00   \n95                                Shorney, Mr. Charles Joseph    male    NaN   \n96                                  Goldschmidt, Mr. George B    male  71.00   \n97                            Greenfield, Mr. William Bertram    male  23.00   \n98                       Doling, Mrs. John T (Ada Julia Bone)  female  34.00   \n99                                          Kantor, Mr. Sinai    male  34.00   \n\n    SibSp  Parch            Ticket      Fare        Cabin Embarked  \n0     1.0    0.0         A/5 21171    7.2500          NaN        S  \n1     1.0    0.0          PC 17599   71.2833          C85        C  \n2     0.0    0.0  STON/O2. 3101282    7.9250          NaN        S  \n3     1.0    0.0          113803.0   53.1000         C123        S  \n4     0.0    0.0          373450.0    8.0500          NaN        S  \n5     0.0    0.0          330877.0    8.4583          NaN        Q  \n6     0.0    0.0           17463.0   51.8625          E46        S  \n7     3.0    1.0          349909.0   21.0750          NaN        S  \n8     0.0    2.0          347742.0   11.1333          NaN        S  \n9     1.0    0.0          237736.0   30.0708          NaN        C  \n10    1.0    1.0           PP 9549   16.7000           G6        S  \n11    0.0    0.0          113783.0   26.5500         C103        S  \n12    0.0    0.0         A/5. 2151    8.0500          NaN        S  \n13    1.0    5.0          347082.0   31.2750          NaN        S  \n14    0.0    0.0          350406.0    7.8542          NaN        S  \n15    0.0    0.0          248706.0   16.0000          NaN        S  \n16    4.0    1.0          382652.0   29.1250          NaN        Q  \n17    0.0    0.0          244373.0   13.0000          NaN        S  \n18    1.0    0.0          345763.0   18.0000          NaN        S  \n19    0.0    0.0            2649.0    7.2250          NaN        C  \n20    0.0    0.0          239865.0   26.0000          NaN        S  \n21    0.0    0.0          248698.0   13.0000          D56        S  \n22    0.0    0.0          330923.0    8.0292          NaN        Q  \n23    0.0    0.0          113788.0   35.5000           A6        S  \n24    3.0    1.0          349909.0   21.0750          NaN        S  \n25    1.0    5.0          347077.0   31.3875          NaN        S  \n26    0.0    0.0            2631.0    7.2250          NaN        C  \n27    3.0    2.0           19950.0  263.0000  C23 C25 C27        S  \n28    0.0    0.0          330959.0    7.8792          NaN        Q  \n29    0.0    0.0          349216.0    7.8958          NaN        S  \n30    0.0    0.0          PC 17601   27.7208          NaN        C  \n31    1.0    0.0          PC 17569  146.5208          B78        C  \n32    0.0    0.0          335677.0    7.7500          NaN        Q  \n33    0.0    0.0        C.A. 24579   10.5000          NaN        S  \n34    1.0    0.0          PC 17604   82.1708          NaN        C  \n35    1.0    0.0          113789.0   52.0000          NaN        S  \n36    0.0    0.0            2677.0    7.2292          NaN        C  \n37    0.0    0.0        A./5. 2152    8.0500          NaN        S  \n38    2.0    0.0          345764.0   18.0000          NaN        S  \n39    1.0    0.0            2651.0   11.2417          NaN        C  \n40    1.0    0.0            7546.0    9.4750          NaN        S  \n41    1.0    0.0           11668.0   21.0000          NaN        S  \n42    0.0    0.0          349253.0    7.8958          NaN        C  \n43    1.0    2.0     SC/Paris 2123   41.5792          NaN        C  \n44    0.0    0.0          330958.0    7.8792          NaN        Q  \n45    0.0    0.0   S.C./A.4. 23567    8.0500          NaN        S  \n46    1.0    0.0          370371.0   15.5000          NaN        Q  \n47    0.0    0.0           14311.0    7.7500          NaN        Q  \n48    2.0    0.0            2662.0   21.6792          NaN        C  \n49    1.0    0.0          349237.0   17.8000          NaN        S  \n50    4.0    1.0         3101295.0   39.6875          NaN        S  \n51    0.0    0.0        A/4. 39886    7.8000          NaN        S  \n52    1.0    0.0          PC 17572   76.7292          D33        C  \n53    1.0    0.0            2926.0   26.0000          NaN        S  \n54    0.0    1.0          113509.0   61.9792          B30        C  \n55    0.0    0.0           19947.0   35.5000          C52        S  \n56    0.0    0.0        C.A. 31026   10.5000          NaN        S  \n57    0.0    0.0            2697.0    7.2292          NaN        C  \n58    1.0    2.0        C.A. 34651   27.7500          NaN        S  \n59    5.0    2.0           CA 2144   46.9000          NaN        S  \n60    0.0    0.0            2669.0    7.2292          NaN        C  \n61    0.0    0.0          113572.0   80.0000          B28      NaN  \n62    1.0    0.0           36973.0   83.4750          C83        S  \n63    3.0    2.0          347088.0   27.9000          NaN        S  \n64    0.0    0.0          PC 17605   27.7208          NaN        C  \n65    1.0    1.0            2661.0   15.2458          NaN        C  \n66    0.0    0.0        C.A. 29395   10.5000          F33        S  \n67    0.0    0.0         S.P. 3464    8.1583          NaN        S  \n68    4.0    2.0         3101281.0    7.9250          NaN        S  \n69    2.0    0.0          315151.0    8.6625          NaN        S  \n70    0.0    0.0        C.A. 33111   10.5000          NaN        S  \n71    5.0    2.0           CA 2144   46.9000          NaN        S  \n72    0.0    0.0      S.O.C. 14879   73.5000          NaN        S  \n73    1.0    0.0            2680.0   14.4542          NaN        C  \n74    0.0    0.0            1601.0   56.4958          NaN        S  \n75    0.0    0.0          348123.0    7.6500        F G73        S  \n76    0.0    0.0          349208.0    7.8958          NaN        S  \n77    0.0    0.0          374746.0    8.0500          NaN        S  \n78    0.0    2.0          248738.0   29.0000          NaN        S  \n79    0.0    0.0          364516.0   12.4750          NaN        S  \n80    0.0    0.0          345767.0    9.0000          NaN        S  \n81    0.0    0.0          345779.0    9.5000          NaN        S  \n82    0.0    0.0          330932.0    7.7875          NaN        Q  \n83    0.0    0.0          113059.0   47.1000          NaN        S  \n84    0.0    0.0        SO/C 14885   10.5000          NaN        S  \n85    3.0    0.0         3101278.0   15.8500          NaN        S  \n86    1.0    3.0        W./C. 6608   34.3750          NaN        S  \n87    0.0    0.0   SOTON/OQ 392086    8.0500          NaN        S  \n88    3.0    2.0           19950.0  263.0000  C23 C25 C27        S  \n89    0.0    0.0          343275.0    8.0500          NaN        S  \n90    0.0    0.0          343276.0    8.0500          NaN        S  \n91    0.0    0.0          347466.0    7.8542          NaN        S  \n92    1.0    0.0       W.E.P. 5734   61.1750          E31        S  \n93    1.0    2.0         C.A. 2315   20.5750          NaN        S  \n94    0.0    0.0          364500.0    7.2500          NaN        S  \n95    0.0    0.0          374910.0    8.0500          NaN        S  \n96    0.0    0.0          PC 17754   34.6542           A5        C  \n97    0.0    1.0          PC 17759   63.3583      D10 D12        C  \n98    0.0    1.0          231919.0   23.0000          NaN        S  \n99    1.0    0.0          244367.0   26.0000          NaN        S  ",
      "text/html": "<div>\n<style scoped>\n    .dataframe tbody tr th:only-of-type {\n        vertical-align: middle;\n    }\n\n    .dataframe tbody tr th {\n        vertical-align: top;\n    }\n\n    .dataframe thead th {\n        text-align: right;\n    }\n</style>\n<table border=\"1\" class=\"dataframe\">\n  <thead>\n    <tr style=\"text-align: right;\">\n      <th></th>\n      <th>PassengerId</th>\n      <th>Survived</th>\n      <th>Pclass</th>\n      <th>Name</th>\n      <th>Sex</th>\n      <th>Age</th>\n      <th>SibSp</th>\n      <th>Parch</th>\n      <th>Ticket</th>\n      <th>Fare</th>\n      <th>Cabin</th>\n      <th>Embarked</th>\n    </tr>\n  </thead>\n  <tbody>\n    <tr>\n      <th>0</th>\n      <td>1.0</td>\n      <td>0.0</td>\n      <td>3.0</td>\n      <td>Braund, Mr. Owen Harris</td>\n      <td>male</td>\n      <td>22.00</td>\n      <td>1.0</td>\n      <td>0.0</td>\n      <td>A/5 21171</td>\n      <td>7.2500</td>\n      <td>NaN</td>\n      <td>S</td>\n    </tr>\n    <tr>\n      <th>1</th>\n      <td>2.0</td>\n      <td>1.0</td>\n      <td>1.0</td>\n      <td>Cumings, Mrs. John Bradley (Florence Briggs Thayer)</td>\n      <td>female</td>\n      <td>38.00</td>\n      <td>1.0</td>\n      <td>0.0</td>\n      <td>PC 17599</td>\n      <td>71.2833</td>\n      <td>C85</td>\n      <td>C</td>\n    </tr>\n    <tr>\n      <th>2</th>\n      <td>3.0</td>\n      <td>1.0</td>\n      <td>3.0</td>\n      <td>Heikkinen, Miss. Laina</td>\n      <td>female</td>\n      <td>26.00</td>\n      <td>0.0</td>\n      <td>0.0</td>\n      <td>STON/O2. 3101282</td>\n      <td>7.9250</td>\n      <td>NaN</td>\n      <td>S</td>\n    </tr>\n    <tr>\n      <th>3</th>\n      <td>4.0</td>\n      <td>1.0</td>\n      <td>1.0</td>\n      <td>Futrelle, Mrs. Jacques Heath (Lily May Peel)</td>\n      <td>female</td>\n      <td>35.00</td>\n      <td>1.0</td>\n      <td>0.0</td>\n      <td>113803.0</td>\n      <td>53.1000</td>\n      <td>C123</td>\n      <td>S</td>\n    </tr>\n    <tr>\n      <th>4</th>\n      <td>5.0</td>\n      <td>0.0</td>\n      <td>3.0</td>\n      <td>Allen, Mr. William Henry</td>\n      <td>male</td>\n      <td>35.00</td>\n      <td>0.0</td>\n      <td>0.0</td>\n      <td>373450.0</td>\n      <td>8.0500</td>\n      <td>NaN</td>\n      <td>S</td>\n    </tr>\n    <tr>\n      <th>5</th>\n      <td>6.0</td>\n      <td>0.0</td>\n      <td>3.0</td>\n      <td>Moran, Mr. James</td>\n      <td>male</td>\n      <td>NaN</td>\n      <td>0.0</td>\n      <td>0.0</td>\n      <td>330877.0</td>\n      <td>8.4583</td>\n      <td>NaN</td>\n      <td>Q</td>\n    </tr>\n    <tr>\n      <th>6</th>\n      <td>7.0</td>\n      <td>0.0</td>\n      <td>1.0</td>\n      <td>McCarthy, Mr. Timothy J</td>\n      <td>male</td>\n      <td>54.00</td>\n      <td>0.0</td>\n      <td>0.0</td>\n      <td>17463.0</td>\n      <td>51.8625</td>\n      <td>E46</td>\n      <td>S</td>\n    </tr>\n    <tr>\n      <th>7</th>\n      <td>8.0</td>\n      <td>0.0</td>\n      <td>3.0</td>\n      <td>Palsson, Master. Gosta Leonard</td>\n      <td>male</td>\n      <td>2.00</td>\n      <td>3.0</td>\n      <td>1.0</td>\n      <td>349909.0</td>\n      <td>21.0750</td>\n      <td>NaN</td>\n      <td>S</td>\n    </tr>\n    <tr>\n      <th>8</th>\n      <td>9.0</td>\n      <td>1.0</td>\n      <td>3.0</td>\n      <td>Johnson, Mrs. Oscar W (Elisabeth Vilhelmina Berg)</td>\n      <td>female</td>\n      <td>27.00</td>\n      <td>0.0</td>\n      <td>2.0</td>\n      <td>347742.0</td>\n      <td>11.1333</td>\n      <td>NaN</td>\n      <td>S</td>\n    </tr>\n    <tr>\n      <th>9</th>\n      <td>10.0</td>\n      <td>1.0</td>\n      <td>2.0</td>\n      <td>Nasser, Mrs. Nicholas (Adele Achem)</td>\n      <td>female</td>\n      <td>14.00</td>\n      <td>1.0</td>\n      <td>0.0</td>\n      <td>237736.0</td>\n      <td>30.0708</td>\n      <td>NaN</td>\n      <td>C</td>\n    </tr>\n    <tr>\n      <th>10</th>\n      <td>11.0</td>\n      <td>1.0</td>\n      <td>3.0</td>\n      <td>Sandstrom, Miss. Marguerite Rut</td>\n      <td>female</td>\n      <td>4.00</td>\n      <td>1.0</td>\n      <td>1.0</td>\n      <td>PP 9549</td>\n      <td>16.7000</td>\n      <td>G6</td>\n      <td>S</td>\n    </tr>\n    <tr>\n      <th>11</th>\n      <td>12.0</td>\n      <td>1.0</td>\n      <td>1.0</td>\n      <td>Bonnell, Miss. Elizabeth</td>\n      <td>female</td>\n      <td>58.00</td>\n      <td>0.0</td>\n      <td>0.0</td>\n      <td>113783.0</td>\n      <td>26.5500</td>\n      <td>C103</td>\n      <td>S</td>\n    </tr>\n    <tr>\n      <th>12</th>\n      <td>13.0</td>\n      <td>0.0</td>\n      <td>3.0</td>\n      <td>Saundercock, Mr. William Henry</td>\n      <td>male</td>\n      <td>20.00</td>\n      <td>0.0</td>\n      <td>0.0</td>\n      <td>A/5. 2151</td>\n      <td>8.0500</td>\n      <td>NaN</td>\n      <td>S</td>\n    </tr>\n    <tr>\n      <th>13</th>\n      <td>14.0</td>\n      <td>0.0</td>\n      <td>3.0</td>\n      <td>Andersson, Mr. Anders Johan</td>\n      <td>male</td>\n      <td>39.00</td>\n      <td>1.0</td>\n      <td>5.0</td>\n      <td>347082.0</td>\n      <td>31.2750</td>\n      <td>NaN</td>\n      <td>S</td>\n    </tr>\n    <tr>\n      <th>14</th>\n      <td>15.0</td>\n      <td>0.0</td>\n      <td>3.0</td>\n      <td>Vestrom, Miss. Hulda Amanda Adolfina</td>\n      <td>female</td>\n      <td>14.00</td>\n      <td>0.0</td>\n      <td>0.0</td>\n      <td>350406.0</td>\n      <td>7.8542</td>\n      <td>NaN</td>\n      <td>S</td>\n    </tr>\n    <tr>\n      <th>15</th>\n      <td>16.0</td>\n      <td>1.0</td>\n      <td>2.0</td>\n      <td>Hewlett, Mrs. (Mary D Kingcome)</td>\n      <td>female</td>\n      <td>55.00</td>\n      <td>0.0</td>\n      <td>0.0</td>\n      <td>248706.0</td>\n      <td>16.0000</td>\n      <td>NaN</td>\n      <td>S</td>\n    </tr>\n    <tr>\n      <th>16</th>\n      <td>17.0</td>\n      <td>0.0</td>\n      <td>3.0</td>\n      <td>Rice, Master. Eugene</td>\n      <td>male</td>\n      <td>2.00</td>\n      <td>4.0</td>\n      <td>1.0</td>\n      <td>382652.0</td>\n      <td>29.1250</td>\n      <td>NaN</td>\n      <td>Q</td>\n    </tr>\n    <tr>\n      <th>17</th>\n      <td>18.0</td>\n      <td>1.0</td>\n      <td>2.0</td>\n      <td>Williams, Mr. Charles Eugene</td>\n      <td>male</td>\n      <td>NaN</td>\n      <td>0.0</td>\n      <td>0.0</td>\n      <td>244373.0</td>\n      <td>13.0000</td>\n      <td>NaN</td>\n      <td>S</td>\n    </tr>\n    <tr>\n      <th>18</th>\n      <td>19.0</td>\n      <td>0.0</td>\n      <td>3.0</td>\n      <td>Vander Planke, Mrs. Julius (Emelia Maria Vandemoortele)</td>\n      <td>female</td>\n      <td>31.00</td>\n      <td>1.0</td>\n      <td>0.0</td>\n      <td>345763.0</td>\n      <td>18.0000</td>\n      <td>NaN</td>\n      <td>S</td>\n    </tr>\n    <tr>\n      <th>19</th>\n      <td>20.0</td>\n      <td>1.0</td>\n      <td>3.0</td>\n      <td>Masselmani, Mrs. Fatima</td>\n      <td>female</td>\n      <td>NaN</td>\n      <td>0.0</td>\n      <td>0.0</td>\n      <td>2649.0</td>\n      <td>7.2250</td>\n      <td>NaN</td>\n      <td>C</td>\n    </tr>\n    <tr>\n      <th>20</th>\n      <td>21.0</td>\n      <td>0.0</td>\n      <td>2.0</td>\n      <td>Fynney, Mr. Joseph J</td>\n      <td>male</td>\n      <td>35.00</td>\n      <td>0.0</td>\n      <td>0.0</td>\n      <td>239865.0</td>\n      <td>26.0000</td>\n      <td>NaN</td>\n      <td>S</td>\n    </tr>\n    <tr>\n      <th>21</th>\n      <td>22.0</td>\n      <td>1.0</td>\n      <td>2.0</td>\n      <td>Beesley, Mr. Lawrence</td>\n      <td>male</td>\n      <td>34.00</td>\n      <td>0.0</td>\n      <td>0.0</td>\n      <td>248698.0</td>\n      <td>13.0000</td>\n      <td>D56</td>\n      <td>S</td>\n    </tr>\n    <tr>\n      <th>22</th>\n      <td>23.0</td>\n      <td>1.0</td>\n      <td>3.0</td>\n      <td>McGowan, Miss. Anna \"Annie\"</td>\n      <td>female</td>\n      <td>15.00</td>\n      <td>0.0</td>\n      <td>0.0</td>\n      <td>330923.0</td>\n      <td>8.0292</td>\n      <td>NaN</td>\n      <td>Q</td>\n    </tr>\n    <tr>\n      <th>23</th>\n      <td>24.0</td>\n      <td>1.0</td>\n      <td>1.0</td>\n      <td>Sloper, Mr. William Thompson</td>\n      <td>male</td>\n      <td>28.00</td>\n      <td>0.0</td>\n      <td>0.0</td>\n      <td>113788.0</td>\n      <td>35.5000</td>\n      <td>A6</td>\n      <td>S</td>\n    </tr>\n    <tr>\n      <th>24</th>\n      <td>25.0</td>\n      <td>0.0</td>\n      <td>3.0</td>\n      <td>Palsson, Miss. Torborg Danira</td>\n      <td>female</td>\n      <td>8.00</td>\n      <td>3.0</td>\n      <td>1.0</td>\n      <td>349909.0</td>\n      <td>21.0750</td>\n      <td>NaN</td>\n      <td>S</td>\n    </tr>\n    <tr>\n      <th>25</th>\n      <td>26.0</td>\n      <td>1.0</td>\n      <td>3.0</td>\n      <td>Asplund, Mrs. Carl Oscar (Selma Augusta Emilia Johansson)</td>\n      <td>female</td>\n      <td>38.00</td>\n      <td>1.0</td>\n      <td>5.0</td>\n      <td>347077.0</td>\n      <td>31.3875</td>\n      <td>NaN</td>\n      <td>S</td>\n    </tr>\n    <tr>\n      <th>26</th>\n      <td>27.0</td>\n      <td>0.0</td>\n      <td>3.0</td>\n      <td>Emir, Mr. Farred Chehab</td>\n      <td>male</td>\n      <td>NaN</td>\n      <td>0.0</td>\n      <td>0.0</td>\n      <td>2631.0</td>\n      <td>7.2250</td>\n      <td>NaN</td>\n      <td>C</td>\n    </tr>\n    <tr>\n      <th>27</th>\n      <td>28.0</td>\n      <td>0.0</td>\n      <td>1.0</td>\n      <td>Fortune, Mr. Charles Alexander</td>\n      <td>male</td>\n      <td>19.00</td>\n      <td>3.0</td>\n      <td>2.0</td>\n      <td>19950.0</td>\n      <td>263.0000</td>\n      <td>C23 C25 C27</td>\n      <td>S</td>\n    </tr>\n    <tr>\n      <th>28</th>\n      <td>29.0</td>\n      <td>1.0</td>\n      <td>3.0</td>\n      <td>O'Dwyer, Miss. Ellen \"Nellie\"</td>\n      <td>female</td>\n      <td>NaN</td>\n      <td>0.0</td>\n      <td>0.0</td>\n      <td>330959.0</td>\n      <td>7.8792</td>\n      <td>NaN</td>\n      <td>Q</td>\n    </tr>\n    <tr>\n      <th>29</th>\n      <td>30.0</td>\n      <td>0.0</td>\n      <td>3.0</td>\n      <td>Todoroff, Mr. Lalio</td>\n      <td>male</td>\n      <td>NaN</td>\n      <td>0.0</td>\n      <td>0.0</td>\n      <td>349216.0</td>\n      <td>7.8958</td>\n      <td>NaN</td>\n      <td>S</td>\n    </tr>\n    <tr>\n      <th>30</th>\n      <td>31.0</td>\n      <td>0.0</td>\n      <td>1.0</td>\n      <td>Uruchurtu, Don. Manuel E</td>\n      <td>male</td>\n      <td>40.00</td>\n      <td>0.0</td>\n      <td>0.0</td>\n      <td>PC 17601</td>\n      <td>27.7208</td>\n      <td>NaN</td>\n      <td>C</td>\n    </tr>\n    <tr>\n      <th>31</th>\n      <td>32.0</td>\n      <td>1.0</td>\n      <td>1.0</td>\n      <td>Spencer, Mrs. William Augustus (Marie Eugenie)</td>\n      <td>female</td>\n      <td>NaN</td>\n      <td>1.0</td>\n      <td>0.0</td>\n      <td>PC 17569</td>\n      <td>146.5208</td>\n      <td>B78</td>\n      <td>C</td>\n    </tr>\n    <tr>\n      <th>32</th>\n      <td>33.0</td>\n      <td>1.0</td>\n      <td>3.0</td>\n      <td>Glynn, Miss. Mary Agatha</td>\n      <td>female</td>\n      <td>NaN</td>\n      <td>0.0</td>\n      <td>0.0</td>\n      <td>335677.0</td>\n      <td>7.7500</td>\n      <td>NaN</td>\n      <td>Q</td>\n    </tr>\n    <tr>\n      <th>33</th>\n      <td>34.0</td>\n      <td>0.0</td>\n      <td>2.0</td>\n      <td>Wheadon, Mr. Edward H</td>\n      <td>male</td>\n      <td>66.00</td>\n      <td>0.0</td>\n      <td>0.0</td>\n      <td>C.A. 24579</td>\n      <td>10.5000</td>\n      <td>NaN</td>\n      <td>S</td>\n    </tr>\n    <tr>\n      <th>34</th>\n      <td>35.0</td>\n      <td>0.0</td>\n      <td>1.0</td>\n      <td>Meyer, Mr. Edgar Joseph</td>\n      <td>male</td>\n      <td>28.00</td>\n      <td>1.0</td>\n      <td>0.0</td>\n      <td>PC 17604</td>\n      <td>82.1708</td>\n      <td>NaN</td>\n      <td>C</td>\n    </tr>\n    <tr>\n      <th>35</th>\n      <td>36.0</td>\n      <td>0.0</td>\n      <td>1.0</td>\n      <td>Holverson, Mr. Alexander Oskar</td>\n      <td>male</td>\n      <td>42.00</td>\n      <td>1.0</td>\n      <td>0.0</td>\n      <td>113789.0</td>\n      <td>52.0000</td>\n      <td>NaN</td>\n      <td>S</td>\n    </tr>\n    <tr>\n      <th>36</th>\n      <td>37.0</td>\n      <td>1.0</td>\n      <td>3.0</td>\n      <td>Mamee, Mr. Hanna</td>\n      <td>male</td>\n      <td>NaN</td>\n      <td>0.0</td>\n      <td>0.0</td>\n      <td>2677.0</td>\n      <td>7.2292</td>\n      <td>NaN</td>\n      <td>C</td>\n    </tr>\n    <tr>\n      <th>37</th>\n      <td>38.0</td>\n      <td>0.0</td>\n      <td>3.0</td>\n      <td>Cann, Mr. Ernest Charles</td>\n      <td>male</td>\n      <td>21.00</td>\n      <td>0.0</td>\n      <td>0.0</td>\n      <td>A./5. 2152</td>\n      <td>8.0500</td>\n      <td>NaN</td>\n      <td>S</td>\n    </tr>\n    <tr>\n      <th>38</th>\n      <td>39.0</td>\n      <td>0.0</td>\n      <td>3.0</td>\n      <td>Vander Planke, Miss. Augusta Maria</td>\n      <td>female</td>\n      <td>18.00</td>\n      <td>2.0</td>\n      <td>0.0</td>\n      <td>345764.0</td>\n      <td>18.0000</td>\n      <td>NaN</td>\n      <td>S</td>\n    </tr>\n    <tr>\n      <th>39</th>\n      <td>40.0</td>\n      <td>1.0</td>\n      <td>3.0</td>\n      <td>Nicola-Yarred, Miss. Jamila</td>\n      <td>female</td>\n      <td>14.00</td>\n      <td>1.0</td>\n      <td>0.0</td>\n      <td>2651.0</td>\n      <td>11.2417</td>\n      <td>NaN</td>\n      <td>C</td>\n    </tr>\n    <tr>\n      <th>40</th>\n      <td>41.0</td>\n      <td>0.0</td>\n      <td>3.0</td>\n      <td>Ahlin, Mrs. Johan (Johanna Persdotter Larsson)</td>\n      <td>female</td>\n      <td>40.00</td>\n      <td>1.0</td>\n      <td>0.0</td>\n      <td>7546.0</td>\n      <td>9.4750</td>\n      <td>NaN</td>\n      <td>S</td>\n    </tr>\n    <tr>\n      <th>41</th>\n      <td>42.0</td>\n      <td>0.0</td>\n      <td>2.0</td>\n      <td>Turpin, Mrs. William John Robert (Dorothy Ann Wonnacott)</td>\n      <td>female</td>\n      <td>27.00</td>\n      <td>1.0</td>\n      <td>0.0</td>\n      <td>11668.0</td>\n      <td>21.0000</td>\n      <td>NaN</td>\n      <td>S</td>\n    </tr>\n    <tr>\n      <th>42</th>\n      <td>43.0</td>\n      <td>0.0</td>\n      <td>3.0</td>\n      <td>Kraeff, Mr. Theodor</td>\n      <td>male</td>\n      <td>NaN</td>\n      <td>0.0</td>\n      <td>0.0</td>\n      <td>349253.0</td>\n      <td>7.8958</td>\n      <td>NaN</td>\n      <td>C</td>\n    </tr>\n    <tr>\n      <th>43</th>\n      <td>44.0</td>\n      <td>1.0</td>\n      <td>2.0</td>\n      <td>Laroche, Miss. Simonne Marie Anne Andree</td>\n      <td>female</td>\n      <td>3.00</td>\n      <td>1.0</td>\n      <td>2.0</td>\n      <td>SC/Paris 2123</td>\n      <td>41.5792</td>\n      <td>NaN</td>\n      <td>C</td>\n    </tr>\n    <tr>\n      <th>44</th>\n      <td>45.0</td>\n      <td>1.0</td>\n      <td>3.0</td>\n      <td>Devaney, Miss. Margaret Delia</td>\n      <td>female</td>\n      <td>19.00</td>\n      <td>0.0</td>\n      <td>0.0</td>\n      <td>330958.0</td>\n      <td>7.8792</td>\n      <td>NaN</td>\n      <td>Q</td>\n    </tr>\n    <tr>\n      <th>45</th>\n      <td>46.0</td>\n      <td>0.0</td>\n      <td>3.0</td>\n      <td>Rogers, Mr. William John</td>\n      <td>male</td>\n      <td>NaN</td>\n      <td>0.0</td>\n      <td>0.0</td>\n      <td>S.C./A.4. 23567</td>\n      <td>8.0500</td>\n      <td>NaN</td>\n      <td>S</td>\n    </tr>\n    <tr>\n      <th>46</th>\n      <td>47.0</td>\n      <td>0.0</td>\n      <td>3.0</td>\n      <td>Lennon, Mr. Denis</td>\n      <td>male</td>\n      <td>NaN</td>\n      <td>1.0</td>\n      <td>0.0</td>\n      <td>370371.0</td>\n      <td>15.5000</td>\n      <td>NaN</td>\n      <td>Q</td>\n    </tr>\n    <tr>\n      <th>47</th>\n      <td>48.0</td>\n      <td>1.0</td>\n      <td>3.0</td>\n      <td>O'Driscoll, Miss. Bridget</td>\n      <td>female</td>\n      <td>NaN</td>\n      <td>0.0</td>\n      <td>0.0</td>\n      <td>14311.0</td>\n      <td>7.7500</td>\n      <td>NaN</td>\n      <td>Q</td>\n    </tr>\n    <tr>\n      <th>48</th>\n      <td>49.0</td>\n      <td>0.0</td>\n      <td>3.0</td>\n      <td>Samaan, Mr. Youssef</td>\n      <td>male</td>\n      <td>NaN</td>\n      <td>2.0</td>\n      <td>0.0</td>\n      <td>2662.0</td>\n      <td>21.6792</td>\n      <td>NaN</td>\n      <td>C</td>\n    </tr>\n    <tr>\n      <th>49</th>\n      <td>50.0</td>\n      <td>0.0</td>\n      <td>3.0</td>\n      <td>Arnold-Franchi, Mrs. Josef (Josefine Franchi)</td>\n      <td>female</td>\n      <td>18.00</td>\n      <td>1.0</td>\n      <td>0.0</td>\n      <td>349237.0</td>\n      <td>17.8000</td>\n      <td>NaN</td>\n      <td>S</td>\n    </tr>\n    <tr>\n      <th>50</th>\n      <td>51.0</td>\n      <td>0.0</td>\n      <td>3.0</td>\n      <td>Panula, Master. Juha Niilo</td>\n      <td>male</td>\n      <td>7.00</td>\n      <td>4.0</td>\n      <td>1.0</td>\n      <td>3101295.0</td>\n      <td>39.6875</td>\n      <td>NaN</td>\n      <td>S</td>\n    </tr>\n    <tr>\n      <th>51</th>\n      <td>52.0</td>\n      <td>0.0</td>\n      <td>3.0</td>\n      <td>Nosworthy, Mr. Richard Cater</td>\n      <td>male</td>\n      <td>21.00</td>\n      <td>0.0</td>\n      <td>0.0</td>\n      <td>A/4. 39886</td>\n      <td>7.8000</td>\n      <td>NaN</td>\n      <td>S</td>\n    </tr>\n    <tr>\n      <th>52</th>\n      <td>53.0</td>\n      <td>1.0</td>\n      <td>1.0</td>\n      <td>Harper, Mrs. Henry Sleeper (Myna Haxtun)</td>\n      <td>female</td>\n      <td>49.00</td>\n      <td>1.0</td>\n      <td>0.0</td>\n      <td>PC 17572</td>\n      <td>76.7292</td>\n      <td>D33</td>\n      <td>C</td>\n    </tr>\n    <tr>\n      <th>53</th>\n      <td>54.0</td>\n      <td>1.0</td>\n      <td>2.0</td>\n      <td>Faunthorpe, Mrs. Lizzie (Elizabeth Anne Wilkinson)</td>\n      <td>female</td>\n      <td>29.00</td>\n      <td>1.0</td>\n      <td>0.0</td>\n      <td>2926.0</td>\n      <td>26.0000</td>\n      <td>NaN</td>\n      <td>S</td>\n    </tr>\n    <tr>\n      <th>54</th>\n      <td>55.0</td>\n      <td>0.0</td>\n      <td>1.0</td>\n      <td>Ostby, Mr. Engelhart Cornelius</td>\n      <td>male</td>\n      <td>65.00</td>\n      <td>0.0</td>\n      <td>1.0</td>\n      <td>113509.0</td>\n      <td>61.9792</td>\n      <td>B30</td>\n      <td>C</td>\n    </tr>\n    <tr>\n      <th>55</th>\n      <td>56.0</td>\n      <td>1.0</td>\n      <td>1.0</td>\n      <td>Woolner, Mr. Hugh</td>\n      <td>male</td>\n      <td>NaN</td>\n      <td>0.0</td>\n      <td>0.0</td>\n      <td>19947.0</td>\n      <td>35.5000</td>\n      <td>C52</td>\n      <td>S</td>\n    </tr>\n    <tr>\n      <th>56</th>\n      <td>57.0</td>\n      <td>1.0</td>\n      <td>2.0</td>\n      <td>Rugg, Miss. Emily</td>\n      <td>female</td>\n      <td>21.00</td>\n      <td>0.0</td>\n      <td>0.0</td>\n      <td>C.A. 31026</td>\n      <td>10.5000</td>\n      <td>NaN</td>\n      <td>S</td>\n    </tr>\n    <tr>\n      <th>57</th>\n      <td>58.0</td>\n      <td>0.0</td>\n      <td>3.0</td>\n      <td>Novel, Mr. Mansouer</td>\n      <td>male</td>\n      <td>28.50</td>\n      <td>0.0</td>\n      <td>0.0</td>\n      <td>2697.0</td>\n      <td>7.2292</td>\n      <td>NaN</td>\n      <td>C</td>\n    </tr>\n    <tr>\n      <th>58</th>\n      <td>59.0</td>\n      <td>1.0</td>\n      <td>2.0</td>\n      <td>West, Miss. Constance Mirium</td>\n      <td>female</td>\n      <td>5.00</td>\n      <td>1.0</td>\n      <td>2.0</td>\n      <td>C.A. 34651</td>\n      <td>27.7500</td>\n      <td>NaN</td>\n      <td>S</td>\n    </tr>\n    <tr>\n      <th>59</th>\n      <td>60.0</td>\n      <td>0.0</td>\n      <td>3.0</td>\n      <td>Goodwin, Master. William Frederick</td>\n      <td>male</td>\n      <td>11.00</td>\n      <td>5.0</td>\n      <td>2.0</td>\n      <td>CA 2144</td>\n      <td>46.9000</td>\n      <td>NaN</td>\n      <td>S</td>\n    </tr>\n    <tr>\n      <th>60</th>\n      <td>61.0</td>\n      <td>0.0</td>\n      <td>3.0</td>\n      <td>Sirayanian, Mr. Orsen</td>\n      <td>male</td>\n      <td>22.00</td>\n      <td>0.0</td>\n      <td>0.0</td>\n      <td>2669.0</td>\n      <td>7.2292</td>\n      <td>NaN</td>\n      <td>C</td>\n    </tr>\n    <tr>\n      <th>61</th>\n      <td>62.0</td>\n      <td>1.0</td>\n      <td>1.0</td>\n      <td>Icard, Miss. Amelie</td>\n      <td>female</td>\n      <td>38.00</td>\n      <td>0.0</td>\n      <td>0.0</td>\n      <td>113572.0</td>\n      <td>80.0000</td>\n      <td>B28</td>\n      <td>NaN</td>\n    </tr>\n    <tr>\n      <th>62</th>\n      <td>63.0</td>\n      <td>0.0</td>\n      <td>1.0</td>\n      <td>Harris, Mr. Henry Birkhardt</td>\n      <td>male</td>\n      <td>45.00</td>\n      <td>1.0</td>\n      <td>0.0</td>\n      <td>36973.0</td>\n      <td>83.4750</td>\n      <td>C83</td>\n      <td>S</td>\n    </tr>\n    <tr>\n      <th>63</th>\n      <td>64.0</td>\n      <td>0.0</td>\n      <td>3.0</td>\n      <td>Skoog, Master. Harald</td>\n      <td>male</td>\n      <td>4.00</td>\n      <td>3.0</td>\n      <td>2.0</td>\n      <td>347088.0</td>\n      <td>27.9000</td>\n      <td>NaN</td>\n      <td>S</td>\n    </tr>\n    <tr>\n      <th>64</th>\n      <td>65.0</td>\n      <td>0.0</td>\n      <td>1.0</td>\n      <td>Stewart, Mr. Albert A</td>\n      <td>male</td>\n      <td>NaN</td>\n      <td>0.0</td>\n      <td>0.0</td>\n      <td>PC 17605</td>\n      <td>27.7208</td>\n      <td>NaN</td>\n      <td>C</td>\n    </tr>\n    <tr>\n      <th>65</th>\n      <td>66.0</td>\n      <td>1.0</td>\n      <td>3.0</td>\n      <td>Moubarek, Master. Gerios</td>\n      <td>male</td>\n      <td>NaN</td>\n      <td>1.0</td>\n      <td>1.0</td>\n      <td>2661.0</td>\n      <td>15.2458</td>\n      <td>NaN</td>\n      <td>C</td>\n    </tr>\n    <tr>\n      <th>66</th>\n      <td>67.0</td>\n      <td>1.0</td>\n      <td>2.0</td>\n      <td>Nye, Mrs. (Elizabeth Ramell)</td>\n      <td>female</td>\n      <td>29.00</td>\n      <td>0.0</td>\n      <td>0.0</td>\n      <td>C.A. 29395</td>\n      <td>10.5000</td>\n      <td>F33</td>\n      <td>S</td>\n    </tr>\n    <tr>\n      <th>67</th>\n      <td>68.0</td>\n      <td>0.0</td>\n      <td>3.0</td>\n      <td>Crease, Mr. Ernest James</td>\n      <td>male</td>\n      <td>19.00</td>\n      <td>0.0</td>\n      <td>0.0</td>\n      <td>S.P. 3464</td>\n      <td>8.1583</td>\n      <td>NaN</td>\n      <td>S</td>\n    </tr>\n    <tr>\n      <th>68</th>\n      <td>69.0</td>\n      <td>1.0</td>\n      <td>3.0</td>\n      <td>Andersson, Miss. Erna Alexandra</td>\n      <td>female</td>\n      <td>17.00</td>\n      <td>4.0</td>\n      <td>2.0</td>\n      <td>3101281.0</td>\n      <td>7.9250</td>\n      <td>NaN</td>\n      <td>S</td>\n    </tr>\n    <tr>\n      <th>69</th>\n      <td>70.0</td>\n      <td>0.0</td>\n      <td>3.0</td>\n      <td>Kink, Mr. Vincenz</td>\n      <td>male</td>\n      <td>26.00</td>\n      <td>2.0</td>\n      <td>0.0</td>\n      <td>315151.0</td>\n      <td>8.6625</td>\n      <td>NaN</td>\n      <td>S</td>\n    </tr>\n    <tr>\n      <th>70</th>\n      <td>71.0</td>\n      <td>0.0</td>\n      <td>2.0</td>\n      <td>Jenkin, Mr. Stephen Curnow</td>\n      <td>male</td>\n      <td>32.00</td>\n      <td>0.0</td>\n      <td>0.0</td>\n      <td>C.A. 33111</td>\n      <td>10.5000</td>\n      <td>NaN</td>\n      <td>S</td>\n    </tr>\n    <tr>\n      <th>71</th>\n      <td>72.0</td>\n      <td>0.0</td>\n      <td>3.0</td>\n      <td>Goodwin, Miss. Lillian Amy</td>\n      <td>female</td>\n      <td>16.00</td>\n      <td>5.0</td>\n      <td>2.0</td>\n      <td>CA 2144</td>\n      <td>46.9000</td>\n      <td>NaN</td>\n      <td>S</td>\n    </tr>\n    <tr>\n      <th>72</th>\n      <td>73.0</td>\n      <td>0.0</td>\n      <td>2.0</td>\n      <td>Hood, Mr. Ambrose Jr</td>\n      <td>male</td>\n      <td>21.00</td>\n      <td>0.0</td>\n      <td>0.0</td>\n      <td>S.O.C. 14879</td>\n      <td>73.5000</td>\n      <td>NaN</td>\n      <td>S</td>\n    </tr>\n    <tr>\n      <th>73</th>\n      <td>74.0</td>\n      <td>0.0</td>\n      <td>3.0</td>\n      <td>Chronopoulos, Mr. Apostolos</td>\n      <td>male</td>\n      <td>26.00</td>\n      <td>1.0</td>\n      <td>0.0</td>\n      <td>2680.0</td>\n      <td>14.4542</td>\n      <td>NaN</td>\n      <td>C</td>\n    </tr>\n    <tr>\n      <th>74</th>\n      <td>75.0</td>\n      <td>1.0</td>\n      <td>3.0</td>\n      <td>Bing, Mr. Lee</td>\n      <td>male</td>\n      <td>32.00</td>\n      <td>0.0</td>\n      <td>0.0</td>\n      <td>1601.0</td>\n      <td>56.4958</td>\n      <td>NaN</td>\n      <td>S</td>\n    </tr>\n    <tr>\n      <th>75</th>\n      <td>76.0</td>\n      <td>0.0</td>\n      <td>3.0</td>\n      <td>Moen, Mr. Sigurd Hansen</td>\n      <td>male</td>\n      <td>25.00</td>\n      <td>0.0</td>\n      <td>0.0</td>\n      <td>348123.0</td>\n      <td>7.6500</td>\n      <td>F G73</td>\n      <td>S</td>\n    </tr>\n    <tr>\n      <th>76</th>\n      <td>77.0</td>\n      <td>0.0</td>\n      <td>3.0</td>\n      <td>Staneff, Mr. Ivan</td>\n      <td>male</td>\n      <td>NaN</td>\n      <td>0.0</td>\n      <td>0.0</td>\n      <td>349208.0</td>\n      <td>7.8958</td>\n      <td>NaN</td>\n      <td>S</td>\n    </tr>\n    <tr>\n      <th>77</th>\n      <td>78.0</td>\n      <td>0.0</td>\n      <td>3.0</td>\n      <td>Moutal, Mr. Rahamin Haim</td>\n      <td>male</td>\n      <td>NaN</td>\n      <td>0.0</td>\n      <td>0.0</td>\n      <td>374746.0</td>\n      <td>8.0500</td>\n      <td>NaN</td>\n      <td>S</td>\n    </tr>\n    <tr>\n      <th>78</th>\n      <td>79.0</td>\n      <td>1.0</td>\n      <td>2.0</td>\n      <td>Caldwell, Master. Alden Gates</td>\n      <td>male</td>\n      <td>0.83</td>\n      <td>0.0</td>\n      <td>2.0</td>\n      <td>248738.0</td>\n      <td>29.0000</td>\n      <td>NaN</td>\n      <td>S</td>\n    </tr>\n    <tr>\n      <th>79</th>\n      <td>80.0</td>\n      <td>1.0</td>\n      <td>3.0</td>\n      <td>Dowdell, Miss. Elizabeth</td>\n      <td>female</td>\n      <td>30.00</td>\n      <td>0.0</td>\n      <td>0.0</td>\n      <td>364516.0</td>\n      <td>12.4750</td>\n      <td>NaN</td>\n      <td>S</td>\n    </tr>\n    <tr>\n      <th>80</th>\n      <td>81.0</td>\n      <td>0.0</td>\n      <td>3.0</td>\n      <td>Waelens, Mr. Achille</td>\n      <td>male</td>\n      <td>22.00</td>\n      <td>0.0</td>\n      <td>0.0</td>\n      <td>345767.0</td>\n      <td>9.0000</td>\n      <td>NaN</td>\n      <td>S</td>\n    </tr>\n    <tr>\n      <th>81</th>\n      <td>82.0</td>\n      <td>1.0</td>\n      <td>3.0</td>\n      <td>Sheerlinck, Mr. Jan Baptist</td>\n      <td>male</td>\n      <td>29.00</td>\n      <td>0.0</td>\n      <td>0.0</td>\n      <td>345779.0</td>\n      <td>9.5000</td>\n      <td>NaN</td>\n      <td>S</td>\n    </tr>\n    <tr>\n      <th>82</th>\n      <td>83.0</td>\n      <td>1.0</td>\n      <td>3.0</td>\n      <td>McDermott, Miss. Brigdet Delia</td>\n      <td>female</td>\n      <td>NaN</td>\n      <td>0.0</td>\n      <td>0.0</td>\n      <td>330932.0</td>\n      <td>7.7875</td>\n      <td>NaN</td>\n      <td>Q</td>\n    </tr>\n    <tr>\n      <th>83</th>\n      <td>84.0</td>\n      <td>0.0</td>\n      <td>1.0</td>\n      <td>Carrau, Mr. Francisco M</td>\n      <td>male</td>\n      <td>28.00</td>\n      <td>0.0</td>\n      <td>0.0</td>\n      <td>113059.0</td>\n      <td>47.1000</td>\n      <td>NaN</td>\n      <td>S</td>\n    </tr>\n    <tr>\n      <th>84</th>\n      <td>85.0</td>\n      <td>1.0</td>\n      <td>2.0</td>\n      <td>Ilett, Miss. Bertha</td>\n      <td>female</td>\n      <td>17.00</td>\n      <td>0.0</td>\n      <td>0.0</td>\n      <td>SO/C 14885</td>\n      <td>10.5000</td>\n      <td>NaN</td>\n      <td>S</td>\n    </tr>\n    <tr>\n      <th>85</th>\n      <td>86.0</td>\n      <td>1.0</td>\n      <td>3.0</td>\n      <td>Backstrom, Mrs. Karl Alfred (Maria Mathilda Gustafsson)</td>\n      <td>female</td>\n      <td>33.00</td>\n      <td>3.0</td>\n      <td>0.0</td>\n      <td>3101278.0</td>\n      <td>15.8500</td>\n      <td>NaN</td>\n      <td>S</td>\n    </tr>\n    <tr>\n      <th>86</th>\n      <td>87.0</td>\n      <td>0.0</td>\n      <td>3.0</td>\n      <td>Ford, Mr. William Neal</td>\n      <td>male</td>\n      <td>16.00</td>\n      <td>1.0</td>\n      <td>3.0</td>\n      <td>W./C. 6608</td>\n      <td>34.3750</td>\n      <td>NaN</td>\n      <td>S</td>\n    </tr>\n    <tr>\n      <th>87</th>\n      <td>88.0</td>\n      <td>0.0</td>\n      <td>3.0</td>\n      <td>Slocovski, Mr. Selman Francis</td>\n      <td>male</td>\n      <td>NaN</td>\n      <td>0.0</td>\n      <td>0.0</td>\n      <td>SOTON/OQ 392086</td>\n      <td>8.0500</td>\n      <td>NaN</td>\n      <td>S</td>\n    </tr>\n    <tr>\n      <th>88</th>\n      <td>89.0</td>\n      <td>1.0</td>\n      <td>1.0</td>\n      <td>Fortune, Miss. Mabel Helen</td>\n      <td>female</td>\n      <td>23.00</td>\n      <td>3.0</td>\n      <td>2.0</td>\n      <td>19950.0</td>\n      <td>263.0000</td>\n      <td>C23 C25 C27</td>\n      <td>S</td>\n    </tr>\n    <tr>\n      <th>89</th>\n      <td>90.0</td>\n      <td>0.0</td>\n      <td>3.0</td>\n      <td>Celotti, Mr. Francesco</td>\n      <td>male</td>\n      <td>24.00</td>\n      <td>0.0</td>\n      <td>0.0</td>\n      <td>343275.0</td>\n      <td>8.0500</td>\n      <td>NaN</td>\n      <td>S</td>\n    </tr>\n    <tr>\n      <th>90</th>\n      <td>91.0</td>\n      <td>0.0</td>\n      <td>3.0</td>\n      <td>Christmann, Mr. Emil</td>\n      <td>male</td>\n      <td>29.00</td>\n      <td>0.0</td>\n      <td>0.0</td>\n      <td>343276.0</td>\n      <td>8.0500</td>\n      <td>NaN</td>\n      <td>S</td>\n    </tr>\n    <tr>\n      <th>91</th>\n      <td>92.0</td>\n      <td>0.0</td>\n      <td>3.0</td>\n      <td>Andreasson, Mr. Paul Edvin</td>\n      <td>male</td>\n      <td>20.00</td>\n      <td>0.0</td>\n      <td>0.0</td>\n      <td>347466.0</td>\n      <td>7.8542</td>\n      <td>NaN</td>\n      <td>S</td>\n    </tr>\n    <tr>\n      <th>92</th>\n      <td>93.0</td>\n      <td>0.0</td>\n      <td>1.0</td>\n      <td>Chaffee, Mr. Herbert Fuller</td>\n      <td>male</td>\n      <td>46.00</td>\n      <td>1.0</td>\n      <td>0.0</td>\n      <td>W.E.P. 5734</td>\n      <td>61.1750</td>\n      <td>E31</td>\n      <td>S</td>\n    </tr>\n    <tr>\n      <th>93</th>\n      <td>94.0</td>\n      <td>0.0</td>\n      <td>3.0</td>\n      <td>Dean, Mr. Bertram Frank</td>\n      <td>male</td>\n      <td>26.00</td>\n      <td>1.0</td>\n      <td>2.0</td>\n      <td>C.A. 2315</td>\n      <td>20.5750</td>\n      <td>NaN</td>\n      <td>S</td>\n    </tr>\n    <tr>\n      <th>94</th>\n      <td>95.0</td>\n      <td>0.0</td>\n      <td>3.0</td>\n      <td>Coxon, Mr. Daniel</td>\n      <td>male</td>\n      <td>59.00</td>\n      <td>0.0</td>\n      <td>0.0</td>\n      <td>364500.0</td>\n      <td>7.2500</td>\n      <td>NaN</td>\n      <td>S</td>\n    </tr>\n    <tr>\n      <th>95</th>\n      <td>96.0</td>\n      <td>0.0</td>\n      <td>3.0</td>\n      <td>Shorney, Mr. Charles Joseph</td>\n      <td>male</td>\n      <td>NaN</td>\n      <td>0.0</td>\n      <td>0.0</td>\n      <td>374910.0</td>\n      <td>8.0500</td>\n      <td>NaN</td>\n      <td>S</td>\n    </tr>\n    <tr>\n      <th>96</th>\n      <td>97.0</td>\n      <td>0.0</td>\n      <td>1.0</td>\n      <td>Goldschmidt, Mr. George B</td>\n      <td>male</td>\n      <td>71.00</td>\n      <td>0.0</td>\n      <td>0.0</td>\n      <td>PC 17754</td>\n      <td>34.6542</td>\n      <td>A5</td>\n      <td>C</td>\n    </tr>\n    <tr>\n      <th>97</th>\n      <td>98.0</td>\n      <td>1.0</td>\n      <td>1.0</td>\n      <td>Greenfield, Mr. William Bertram</td>\n      <td>male</td>\n      <td>23.00</td>\n      <td>0.0</td>\n      <td>1.0</td>\n      <td>PC 17759</td>\n      <td>63.3583</td>\n      <td>D10 D12</td>\n      <td>C</td>\n    </tr>\n    <tr>\n      <th>98</th>\n      <td>99.0</td>\n      <td>1.0</td>\n      <td>2.0</td>\n      <td>Doling, Mrs. John T (Ada Julia Bone)</td>\n      <td>female</td>\n      <td>34.00</td>\n      <td>0.0</td>\n      <td>1.0</td>\n      <td>231919.0</td>\n      <td>23.0000</td>\n      <td>NaN</td>\n      <td>S</td>\n    </tr>\n    <tr>\n      <th>99</th>\n      <td>100.0</td>\n      <td>0.0</td>\n      <td>2.0</td>\n      <td>Kantor, Mr. Sinai</td>\n      <td>male</td>\n      <td>34.00</td>\n      <td>1.0</td>\n      <td>0.0</td>\n      <td>244367.0</td>\n      <td>26.0000</td>\n      <td>NaN</td>\n      <td>S</td>\n    </tr>\n  </tbody>\n</table>\n</div>"
     },
     "execution_count": 37,
     "metadata": {},
     "output_type": "execute_result"
    }
   ],
   "source": [
    "df_excel_sample\n"
   ],
   "metadata": {
    "collapsed": false
   }
  },
  {
   "cell_type": "code",
   "execution_count": 38,
   "outputs": [
    {
     "name": "stdout",
     "output_type": "stream",
     "text": [
      "(891, 12)\n"
     ]
    }
   ],
   "source": [
    "\n",
    "print(df_excel.shape)\n",
    "\n"
   ],
   "metadata": {
    "collapsed": false
   }
  },
  {
   "cell_type": "code",
   "execution_count": 40,
   "outputs": [
    {
     "name": "stdout",
     "output_type": "stream",
     "text": [
      "Index(['PassengerId', 'Survived', 'Pclass', 'Name', 'Sex'], dtype='object')\n"
     ]
    }
   ],
   "source": [
    "\n",
    "print(df_excel.columns[:5])\n",
    "\n",
    "\n",
    "\n"
   ],
   "metadata": {
    "collapsed": false
   }
  },
  {
   "cell_type": "code",
   "execution_count": 41,
   "outputs": [
    {
     "name": "stdout",
     "output_type": "stream",
     "text": [
      "              min       max\n",
      "PassengerId  1.00  891.0000\n",
      "Survived     0.00    1.0000\n",
      "Pclass       1.00    3.0000\n",
      "Age          0.42   80.0000\n",
      "SibSp        0.00    8.0000\n",
      "Parch        0.00    6.0000\n",
      "Fare         0.00  512.3292\n"
     ]
    }
   ],
   "source": [
    "print(df_excel.describe().T[['min', 'max']])\n"
   ],
   "metadata": {
    "collapsed": false
   }
  },
  {
   "cell_type": "code",
   "execution_count": null,
   "outputs": [],
   "source": [],
   "metadata": {
    "collapsed": false
   }
  },
  {
   "cell_type": "markdown",
   "source": [
    "Section 1 - iris_db: Using iris data from our mySQL server and the methods used in the lesson above:\n",
    "\n",
    "1. Acquire, prepare & split your data.\n",
    "\n",
    "\n",
    "\n",
    "\n",
    "2. Univariate Stats\n",
    "\n",
    "    For each measurement type (quantitative variable): create a histogram, boxplot, & compute descriptive statistics\n",
    "        (using .describe()).\n",
    "\n",
    "    For each species (categorical variable): create a frequency table and a bar plot of those frequencies.\n",
    "\n",
    "    Document takeaways & any actions.\n",
    "\n",
    "\n",
    "\n",
    "3. Bivariate Stats\n",
    "\n",
    "Visualize each measurement type (y-axis) with the species variable (x-axis) using barplots, adding a horizontal line showing the overall mean of the metric (y-axis).\n",
    "\n",
    "For each measurement type, compute the descriptive statistics for each species.\n",
    "\n",
    "For virginica & versicolor: Compare the mean petal_width using the Mann-Whitney test (scipy.stats.mannwhitneyu) to see if there is a significant difference between the two groups. Do the same for the other measurement types.\n",
    "\n",
    "Document takeaways & any actions.\n",
    "\n",
    "Multivariate Stats\n",
    "\n",
    "Visualize the interaction of each measurement type with the others using a pairplot (or scatter matrix or something similar) and add color to represent species.\n",
    "\n",
    "Visualize two numeric variables of the species. Hint: sns.relplot with hue or col\n",
    "\n",
    "Create a swarmplot using a melted dataframe of all your numeric variables. The x-axis should be the variable name, the y-axis the measure. Add another dimension using color to represent species. Document takeaways from this visualization.\n",
    "\n",
    "Ask a specific question of the data, such as: is the sepal area signficantly different in virginica compared to setosa? Answer the question through both a plot and using a mann-whitney or t-test. If you use a t-test, be sure assumptions are met (independence, normality, equal variance).\n",
    "\n",
    "Document takeaways and any actions."
   ],
   "metadata": {
    "collapsed": false
   }
  }
 ],
 "metadata": {
  "kernelspec": {
   "display_name": "Python 3",
   "language": "python",
   "name": "python3"
  },
  "language_info": {
   "codemirror_mode": {
    "name": "ipython",
    "version": 2
   },
   "file_extension": ".py",
   "mimetype": "text/x-python",
   "name": "python",
   "nbconvert_exporter": "python",
   "pygments_lexer": "ipython2",
   "version": "2.7.6"
  }
 },
 "nbformat": 4,
 "nbformat_minor": 0
}
